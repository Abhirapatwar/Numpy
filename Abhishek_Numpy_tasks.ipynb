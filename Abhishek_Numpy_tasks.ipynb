{
  "cells": [
    {
      "cell_type": "markdown",
      "metadata": {
        "id": "QAROh4wtzDVf"
      },
      "source": [
        "# Numpy\n",
        "\n"
      ]
    },
    {
      "cell_type": "markdown",
      "metadata": {
        "id": "QtxcnLzTzDVm"
      },
      "source": [
        "#### 1. Import the numpy package under the name `np` (★☆☆) \n",
        "(**hint**: import … as …)"
      ]
    },
    {
      "cell_type": "code",
      "execution_count": null,
      "metadata": {
        "collapsed": true,
        "id": "yasF7M48zDVn"
      },
      "outputs": [],
      "source": [
        "import numpy as np"
      ]
    },
    {
      "cell_type": "markdown",
      "metadata": {
        "id": "Pp8awrdqzDVo"
      },
      "source": [
        "#### 2. Print the numpy version and the configuration (★☆☆) \n",
        "(**hint**: np.\\_\\_version\\_\\_, np.show\\_config)"
      ]
    },
    {
      "cell_type": "code",
      "execution_count": null,
      "metadata": {
        "id": "lVV6Z6lkzDVp",
        "colab": {
          "base_uri": "https://localhost:8080/",
          "height": 36
        },
        "outputId": "d894c2d2-bf40-4674-e12a-51b988435453"
      },
      "outputs": [
        {
          "output_type": "execute_result",
          "data": {
            "text/plain": [
              "'1.21.5'"
            ],
            "application/vnd.google.colaboratory.intrinsic+json": {
              "type": "string"
            }
          },
          "metadata": {},
          "execution_count": 4
        }
      ],
      "source": [
        "np.__version__"
      ]
    },
    {
      "cell_type": "code",
      "source": [
        "np.show_config"
      ],
      "metadata": {
        "colab": {
          "base_uri": "https://localhost:8080/"
        },
        "id": "jHnlQOpQ0U8f",
        "outputId": "f6e34d9e-efda-4c11-ae86-e15d78a927b5"
      },
      "execution_count": null,
      "outputs": [
        {
          "output_type": "execute_result",
          "data": {
            "text/plain": [
              "<function numpy.__config__.show>"
            ]
          },
          "metadata": {},
          "execution_count": 5
        }
      ]
    },
    {
      "cell_type": "markdown",
      "metadata": {
        "id": "WxrYn70JzDVq"
      },
      "source": [
        "#### 3. Create a null vector of size 10 (★☆☆) \n",
        "(**hint**: np.zeros)"
      ]
    },
    {
      "cell_type": "code",
      "execution_count": null,
      "metadata": {
        "id": "CqtWV2ftzDVr",
        "colab": {
          "base_uri": "https://localhost:8080/"
        },
        "outputId": "f9e3fc67-7aee-4e95-99f1-004527d1ca76"
      },
      "outputs": [
        {
          "output_type": "execute_result",
          "data": {
            "text/plain": [
              "array([0., 0., 0., 0., 0., 0., 0., 0., 0., 0.])"
            ]
          },
          "metadata": {},
          "execution_count": 21
        }
      ],
      "source": [
        "# x=np.zeros((1,10))\n",
        "x=np.zeros(10)\n",
        "x"
      ]
    },
    {
      "cell_type": "markdown",
      "metadata": {
        "id": "2PgUxNd1zDVt"
      },
      "source": [
        "#### 4.  How to find the memory size of any array (★☆☆) \n",
        "(**hint**: size, itemsize)"
      ]
    },
    {
      "cell_type": "markdown",
      "source": [
        "size: This attribute gives the number of elements present in the NumPy array. \n",
        "\n",
        "itemsize: This attribute gives the memory size of one element of NumPy array in bytes"
      ],
      "metadata": {
        "id": "mOi_lkgH1fdU"
      }
    },
    {
      "cell_type": "code",
      "execution_count": null,
      "metadata": {
        "id": "EZgxBk_BzDVu",
        "colab": {
          "base_uri": "https://localhost:8080/"
        },
        "outputId": "37e4e423-0071-4823-a8e9-9483a77fe084"
      },
      "outputs": [
        {
          "output_type": "stream",
          "name": "stdout",
          "text": [
            "Size of the array:  10\n",
            "Memory size of one array element in bytes:  8\n",
            "Memory size of numpy array in bytes: 80\n"
          ]
        }
      ],
      "source": [
        "print(\"Size of the array: \",x.size)\n",
        "print(\"Memory size of one array element in bytes: \", x.itemsize)\n",
        "print(\"Memory size of numpy array in bytes:\", x.size * x.itemsize)"
      ]
    },
    {
      "cell_type": "markdown",
      "metadata": {
        "id": "MnFQ_kPuzDVv"
      },
      "source": [
        "#### 5.  How to get the documentation of the numpy add function from the command line? (★☆☆) \n",
        "(**hint**: np.info)"
      ]
    },
    {
      "cell_type": "code",
      "execution_count": null,
      "metadata": {
        "collapsed": true,
        "id": "qDwgK9kzzDVw",
        "colab": {
          "base_uri": "https://localhost:8080/"
        },
        "outputId": "04a3e813-2e0e-4f3e-becc-66740b188347"
      },
      "outputs": [
        {
          "output_type": "stream",
          "name": "stdout",
          "text": [
            "add(x1, x2, /, out=None, *, where=True, casting='same_kind', order='K', dtype=None, subok=True[, signature, extobj])\n",
            "\n",
            "Add arguments element-wise.\n",
            "\n",
            "Parameters\n",
            "----------\n",
            "x1, x2 : array_like\n",
            "    The arrays to be added.\n",
            "    If ``x1.shape != x2.shape``, they must be broadcastable to a common\n",
            "    shape (which becomes the shape of the output).\n",
            "out : ndarray, None, or tuple of ndarray and None, optional\n",
            "    A location into which the result is stored. If provided, it must have\n",
            "    a shape that the inputs broadcast to. If not provided or None,\n",
            "    a freshly-allocated array is returned. A tuple (possible only as a\n",
            "    keyword argument) must have length equal to the number of outputs.\n",
            "where : array_like, optional\n",
            "    This condition is broadcast over the input. At locations where the\n",
            "    condition is True, the `out` array will be set to the ufunc result.\n",
            "    Elsewhere, the `out` array will retain its original value.\n",
            "    Note that if an uninitialized `out` array is created via the default\n",
            "    ``out=None``, locations within it where the condition is False will\n",
            "    remain uninitialized.\n",
            "**kwargs\n",
            "    For other keyword-only arguments, see the\n",
            "    :ref:`ufunc docs <ufuncs.kwargs>`.\n",
            "\n",
            "Returns\n",
            "-------\n",
            "add : ndarray or scalar\n",
            "    The sum of `x1` and `x2`, element-wise.\n",
            "    This is a scalar if both `x1` and `x2` are scalars.\n",
            "\n",
            "Notes\n",
            "-----\n",
            "Equivalent to `x1` + `x2` in terms of array broadcasting.\n",
            "\n",
            "Examples\n",
            "--------\n",
            ">>> np.add(1.0, 4.0)\n",
            "5.0\n",
            ">>> x1 = np.arange(9.0).reshape((3, 3))\n",
            ">>> x2 = np.arange(3.0)\n",
            ">>> np.add(x1, x2)\n",
            "array([[  0.,   2.,   4.],\n",
            "       [  3.,   5.,   7.],\n",
            "       [  6.,   8.,  10.]])\n",
            "\n",
            "The ``+`` operator can be used as a shorthand for ``np.add`` on ndarrays.\n",
            "\n",
            ">>> x1 = np.arange(9.0).reshape((3, 3))\n",
            ">>> x2 = np.arange(3.0)\n",
            ">>> x1 + x2\n",
            "array([[ 0.,  2.,  4.],\n",
            "       [ 3.,  5.,  7.],\n",
            "       [ 6.,  8., 10.]])\n"
          ]
        }
      ],
      "source": [
        "np.info(np.add)"
      ]
    },
    {
      "cell_type": "markdown",
      "metadata": {
        "id": "zRJp4M5FzDVx"
      },
      "source": [
        "#### 6.  Create a null vector of size 10 but the fifth value which is 1 (★☆☆) \n",
        "(**hint**: array\\[4\\])"
      ]
    },
    {
      "cell_type": "code",
      "execution_count": null,
      "metadata": {
        "id": "5a3GzvFjzDVy",
        "colab": {
          "base_uri": "https://localhost:8080/"
        },
        "outputId": "1cd696cc-d281-4b9b-b4de-353634f2b85e"
      },
      "outputs": [
        {
          "output_type": "execute_result",
          "data": {
            "text/plain": [
              "array([0., 0., 0., 0., 1., 0., 0., 0., 0., 0.])"
            ]
          },
          "metadata": {},
          "execution_count": 20
        }
      ],
      "source": [
        "a=np.zeros(10)\n",
        "a[4]=1\n",
        "a"
      ]
    },
    {
      "cell_type": "markdown",
      "metadata": {
        "id": "kcTIUJqBzDVy"
      },
      "source": [
        "#### 7.  Create a vector with values ranging from 10 to 49 (★☆☆) \n",
        "(**hint**: np.arange)"
      ]
    },
    {
      "cell_type": "code",
      "execution_count": null,
      "metadata": {
        "id": "hs4_3vbUzDV0",
        "colab": {
          "base_uri": "https://localhost:8080/"
        },
        "outputId": "766ca1af-9310-439c-9694-aeefe0f5c70f"
      },
      "outputs": [
        {
          "output_type": "execute_result",
          "data": {
            "text/plain": [
              "array([10, 11, 12, 13, 14, 15, 16, 17, 18, 19, 20, 21, 22, 23, 24, 25, 26,\n",
              "       27, 28, 29, 30, 31, 32, 33, 34, 35, 36, 37, 38, 39, 40, 41, 42, 43,\n",
              "       44, 45, 46, 47, 48])"
            ]
          },
          "metadata": {},
          "execution_count": 23
        }
      ],
      "source": [
        "d=np.arange(10,49)\n",
        "d"
      ]
    },
    {
      "cell_type": "markdown",
      "metadata": {
        "id": "QvKT8cx3zDV0"
      },
      "source": [
        "#### 8.  Reverse a vector (first element becomes last) (★☆☆) \n",
        "(**hint**: array\\[::-1\\])"
      ]
    },
    {
      "cell_type": "code",
      "execution_count": null,
      "metadata": {
        "id": "ClqJYn0hzDV1",
        "colab": {
          "base_uri": "https://localhost:8080/"
        },
        "outputId": "6dab7fb9-6cb2-4cb7-dc2d-d382af61646f"
      },
      "outputs": [
        {
          "output_type": "execute_result",
          "data": {
            "text/plain": [
              "array([48, 47, 46, 45, 44, 43, 42, 41, 40, 39, 38, 37, 36, 35, 34, 33, 32,\n",
              "       31, 30, 29, 28, 27, 26, 25, 24, 23, 22, 21, 20, 19, 18, 17, 16, 15,\n",
              "       14, 13, 12, 11, 10])"
            ]
          },
          "metadata": {},
          "execution_count": 24
        }
      ],
      "source": [
        "d[::-1]"
      ]
    },
    {
      "cell_type": "markdown",
      "metadata": {
        "id": "zBLsF-I4zDV1"
      },
      "source": [
        "#### 9.  Create a 3x3 matrix with values ranging from 0 to 8 (★☆☆) \n",
        "(**hint**: reshape)"
      ]
    },
    {
      "cell_type": "code",
      "execution_count": null,
      "metadata": {
        "id": "M71du28EzDV1",
        "colab": {
          "base_uri": "https://localhost:8080/"
        },
        "outputId": "65209856-65ff-4ca0-bfbe-8345bfcaf2b2"
      },
      "outputs": [
        {
          "output_type": "execute_result",
          "data": {
            "text/plain": [
              "array([[0, 1, 2],\n",
              "       [3, 4, 5],\n",
              "       [6, 7, 8]])"
            ]
          },
          "metadata": {},
          "execution_count": 31
        }
      ],
      "source": [
        "u=np.arange(0,9)\n",
        "u.reshape(3,3)"
      ]
    },
    {
      "cell_type": "markdown",
      "metadata": {
        "id": "YIC7ttEmzDV2"
      },
      "source": [
        "#### 10. Find indices of non-zero elements from \\[1,2,0,0,4,0\\] (★☆☆) \n",
        "(**hint**: np.nonzero)"
      ]
    },
    {
      "cell_type": "code",
      "execution_count": null,
      "metadata": {
        "id": "pN4TGEokzDV2",
        "colab": {
          "base_uri": "https://localhost:8080/"
        },
        "outputId": "d722375d-a315-41e6-a924-40d62e1eec1a"
      },
      "outputs": [
        {
          "output_type": "execute_result",
          "data": {
            "text/plain": [
              "(array([0, 1, 4]),)"
            ]
          },
          "metadata": {},
          "execution_count": 36
        }
      ],
      "source": [
        "s=np.array([1,2,0,0,4,0])\n",
        "np.nonzero(s)"
      ]
    },
    {
      "cell_type": "markdown",
      "metadata": {
        "id": "FgcXVuhIzDV3"
      },
      "source": [
        "#### 11. Create a 3x3 identity matrix (★☆☆) \n",
        "(**hint**: np.eye)"
      ]
    },
    {
      "cell_type": "code",
      "execution_count": null,
      "metadata": {
        "id": "I_JQBiF-zDV3",
        "colab": {
          "base_uri": "https://localhost:8080/"
        },
        "outputId": "f4b4bed4-cbef-41e7-e549-7c93e405174f"
      },
      "outputs": [
        {
          "output_type": "execute_result",
          "data": {
            "text/plain": [
              "array([[1., 0., 0.],\n",
              "       [0., 1., 0.],\n",
              "       [0., 0., 1.]])"
            ]
          },
          "metadata": {},
          "execution_count": 37
        }
      ],
      "source": [
        "z= np.eye(3)\n",
        "z"
      ]
    },
    {
      "cell_type": "markdown",
      "metadata": {
        "id": "hF6ea2vEzDV3"
      },
      "source": [
        "#### 12. Create a 3x3x3 array with random values (★☆☆) \n",
        "(**hint**: np.random.random)"
      ]
    },
    {
      "cell_type": "code",
      "execution_count": null,
      "metadata": {
        "collapsed": true,
        "id": "bAMKJx0rzDV4",
        "colab": {
          "base_uri": "https://localhost:8080/"
        },
        "outputId": "9b8a4ffb-4101-4fc3-84ab-8761207f14a0"
      },
      "outputs": [
        {
          "output_type": "execute_result",
          "data": {
            "text/plain": [
              "array([[[0.40345967, 0.5204121 , 0.79279538],\n",
              "        [0.80393074, 0.14820998, 0.11623503],\n",
              "        [0.83763278, 0.23439527, 0.46565453]],\n",
              "\n",
              "       [[0.46672134, 0.99955877, 0.6487647 ],\n",
              "        [0.62160772, 0.02477966, 0.41870551],\n",
              "        [0.82493057, 0.29504295, 0.83744885]],\n",
              "\n",
              "       [[0.62572724, 0.827145  , 0.11288014],\n",
              "        [0.58896969, 0.17625709, 0.66133139],\n",
              "        [0.89112295, 0.44998104, 0.17896007]]])"
            ]
          },
          "metadata": {},
          "execution_count": 40
        }
      ],
      "source": [
        "np.random.random((3,3,3))"
      ]
    },
    {
      "cell_type": "markdown",
      "metadata": {
        "id": "3Xhxeyd5zDV4"
      },
      "source": [
        "#### 13. Create a 10x10 array with random values and find the minimum and maximum values (★☆☆) \n",
        "(**hint**: min, max)"
      ]
    },
    {
      "cell_type": "code",
      "execution_count": null,
      "metadata": {
        "id": "isiTUpQzzDV4",
        "colab": {
          "base_uri": "https://localhost:8080/"
        },
        "outputId": "9f529025-87cc-40a1-846d-5f5a6a24726b"
      },
      "outputs": [
        {
          "output_type": "execute_result",
          "data": {
            "text/plain": [
              "array([[0.72225735, 0.1471176 , 0.02126913, 0.44349102, 0.89029533,\n",
              "        0.86228146, 0.15010563, 0.3834918 , 0.56451273, 0.0873884 ],\n",
              "       [0.02785734, 0.26927524, 0.61540769, 0.98626406, 0.60157627,\n",
              "        0.39696919, 0.16252071, 0.11809822, 0.1847319 , 0.51257999],\n",
              "       [0.65924992, 0.65526329, 0.0769056 , 0.37225802, 0.98046792,\n",
              "        0.65904762, 0.73909299, 0.29322281, 0.77076776, 0.02715453],\n",
              "       [0.02403739, 0.63590611, 0.66687856, 0.26346206, 0.33811687,\n",
              "        0.29335385, 0.70189137, 0.8630535 , 0.97880202, 0.13311827],\n",
              "       [0.24375334, 0.18172259, 0.74083348, 0.91955178, 0.42300008,\n",
              "        0.64044614, 0.82524132, 0.75142378, 0.81121025, 0.93602452],\n",
              "       [0.79346975, 0.79439648, 0.19200714, 0.77053143, 0.69408257,\n",
              "        0.35830901, 0.10699914, 0.9729826 , 0.30591466, 0.17173453],\n",
              "       [0.75273708, 0.42925527, 0.74478883, 0.86071658, 0.97401908,\n",
              "        0.72150767, 0.85129632, 0.71124002, 0.17107125, 0.29257643],\n",
              "       [0.66065177, 0.75079545, 0.36010686, 0.27408599, 0.83967287,\n",
              "        0.36055579, 0.78302011, 0.58348653, 0.67960541, 0.38757913],\n",
              "       [0.3029708 , 0.95567193, 0.51239713, 0.91592498, 0.62257292,\n",
              "        0.48293646, 0.72095208, 0.82531088, 0.74208741, 0.60793372],\n",
              "       [0.97161494, 0.33095749, 0.05642615, 0.22747749, 0.54845762,\n",
              "        0.5554299 , 0.75051488, 0.64385756, 0.89680069, 0.97765155]])"
            ]
          },
          "metadata": {},
          "execution_count": 44
        }
      ],
      "source": [
        "r=np.random.random((10,10))\n",
        "r"
      ]
    },
    {
      "cell_type": "code",
      "source": [
        "r.min()"
      ],
      "metadata": {
        "colab": {
          "base_uri": "https://localhost:8080/"
        },
        "id": "gnV72o1a8V2-",
        "outputId": "9edb68fb-6267-42c3-efc9-6d82cecb8a3c"
      },
      "execution_count": null,
      "outputs": [
        {
          "output_type": "execute_result",
          "data": {
            "text/plain": [
              "0.021269128384924008"
            ]
          },
          "metadata": {},
          "execution_count": 45
        }
      ]
    },
    {
      "cell_type": "code",
      "source": [
        "r.max()"
      ],
      "metadata": {
        "colab": {
          "base_uri": "https://localhost:8080/"
        },
        "id": "HdmqQM8e8kf-",
        "outputId": "648b49cf-344b-4371-88d6-93e3b711e9e1"
      },
      "execution_count": null,
      "outputs": [
        {
          "output_type": "execute_result",
          "data": {
            "text/plain": [
              "0.9862640646485812"
            ]
          },
          "metadata": {},
          "execution_count": 46
        }
      ]
    },
    {
      "cell_type": "markdown",
      "metadata": {
        "id": "HXPZbFhszDV4"
      },
      "source": [
        "#### 14. Create a random vector of size 30 and find the mean value (★☆☆) \n",
        "(**hint**: mean)"
      ]
    },
    {
      "cell_type": "code",
      "execution_count": null,
      "metadata": {
        "id": "J4CiRTcbzDV4",
        "colab": {
          "base_uri": "https://localhost:8080/"
        },
        "outputId": "eeaaf1bc-dd4b-4a40-fa20-f4e5525a3c5d"
      },
      "outputs": [
        {
          "output_type": "execute_result",
          "data": {
            "text/plain": [
              "array([0.46496829, 0.16878293, 0.433858  , 0.25323033, 0.93162528,\n",
              "       0.42523799, 0.14832231, 0.85083256, 0.0575657 , 0.79788655,\n",
              "       0.35711538, 0.55786712, 0.12312385, 0.0801078 , 0.57283677,\n",
              "       0.95517899, 0.8186829 , 0.21218306, 0.65602251, 0.09125725,\n",
              "       0.74769014, 0.70421212, 0.56634265, 0.92896107, 0.62396814,\n",
              "       0.2814376 , 0.5837109 , 0.96329733, 0.55549455, 0.26370339])"
            ]
          },
          "metadata": {},
          "execution_count": 50
        }
      ],
      "source": [
        "h=np.random.random((30))\n",
        "h"
      ]
    },
    {
      "cell_type": "code",
      "source": [
        "val=h.mean()\n",
        "print(\"mean is\",val)"
      ],
      "metadata": {
        "colab": {
          "base_uri": "https://localhost:8080/"
        },
        "id": "G1W2zbJZ895P",
        "outputId": "fec8a20d-bf4b-4737-ac1c-84f082245093"
      },
      "execution_count": null,
      "outputs": [
        {
          "output_type": "stream",
          "name": "stdout",
          "text": [
            "mean is 0.5058501140189192\n"
          ]
        }
      ]
    },
    {
      "cell_type": "markdown",
      "metadata": {
        "id": "ZiybVRJFzDV5"
      },
      "source": [
        "#### 15. Create a 2d array with 1 on the border and 0 inside (★☆☆) \n",
        "(**hint**: array\\[1:-1, 1:-1\\])"
      ]
    },
    {
      "cell_type": "code",
      "execution_count": null,
      "metadata": {
        "id": "0-b8RTTNzDV5",
        "colab": {
          "base_uri": "https://localhost:8080/"
        },
        "outputId": "834f38cc-48e7-4556-af3f-0f00334aa044"
      },
      "outputs": [
        {
          "output_type": "execute_result",
          "data": {
            "text/plain": [
              "array([[1., 1., 1.],\n",
              "       [1., 0., 1.],\n",
              "       [1., 1., 1.]])"
            ]
          },
          "metadata": {},
          "execution_count": 62
        }
      ],
      "source": [
        "f=np.ones((3,3))\n",
        "f[1:-1, 1:-1]=0\n",
        "f"
      ]
    },
    {
      "cell_type": "code",
      "source": [
        "f=np.ones((5,5))\n",
        "f[1:-1, 1:-1]=0\n",
        "f"
      ],
      "metadata": {
        "colab": {
          "base_uri": "https://localhost:8080/"
        },
        "id": "SJX3tnK6-o17",
        "outputId": "ecdbaad7-87c5-40ec-aa5f-30003cbcaade"
      },
      "execution_count": null,
      "outputs": [
        {
          "output_type": "execute_result",
          "data": {
            "text/plain": [
              "array([[1., 1., 1., 1., 1.],\n",
              "       [1., 0., 0., 0., 1.],\n",
              "       [1., 0., 0., 0., 1.],\n",
              "       [1., 0., 0., 0., 1.],\n",
              "       [1., 1., 1., 1., 1.]])"
            ]
          },
          "metadata": {},
          "execution_count": 63
        }
      ]
    },
    {
      "cell_type": "markdown",
      "metadata": {
        "id": "JAYGkYmNzDV5"
      },
      "source": [
        "#### 16. How to add a border (filled with 0's) around an existing array? (★☆☆) \n",
        "(**hint**: np.pad)"
      ]
    },
    {
      "cell_type": "code",
      "execution_count": null,
      "metadata": {
        "id": "psfE33ShzDV5",
        "colab": {
          "base_uri": "https://localhost:8080/"
        },
        "outputId": "52890577-7419-4e0e-f763-c9f0af6da1ba"
      },
      "outputs": [
        {
          "output_type": "execute_result",
          "data": {
            "text/plain": [
              "array([[0.42308416, 0.61200271],\n",
              "       [0.17060296, 0.04938638]])"
            ]
          },
          "metadata": {},
          "execution_count": 8
        }
      ],
      "source": [
        "r=np.random.random((2,2))\n",
        "r"
      ]
    },
    {
      "cell_type": "code",
      "source": [
        "np.pad(r, pad_width=1, mode='constant', constant_values=0)"
      ],
      "metadata": {
        "colab": {
          "base_uri": "https://localhost:8080/"
        },
        "id": "qK-iLBAnUDV9",
        "outputId": "6bd29fb7-bb9e-425b-fd0a-237b9813bb14"
      },
      "execution_count": null,
      "outputs": [
        {
          "output_type": "execute_result",
          "data": {
            "text/plain": [
              "array([[0.        , 0.        , 0.        , 0.        ],\n",
              "       [0.        , 0.42308416, 0.61200271, 0.        ],\n",
              "       [0.        , 0.17060296, 0.04938638, 0.        ],\n",
              "       [0.        , 0.        , 0.        , 0.        ]])"
            ]
          },
          "metadata": {},
          "execution_count": 9
        }
      ]
    },
    {
      "cell_type": "markdown",
      "metadata": {
        "id": "r3sKvmyTzDV5"
      },
      "source": [
        "#### 17. What is the result of the following expression? (★☆☆) \n",
        "(**hint**: NaN = not a number, inf = infinity)"
      ]
    },
    {
      "cell_type": "markdown",
      "metadata": {
        "id": "Bo51FvqazDV6"
      },
      "source": [
        "```python\n",
        "0 * np.nan\n",
        "np.nan == np.nan\n",
        "np.inf > np.nan\n",
        "np.nan - np.nan\n",
        "0.3 == 3 * 0.1\n",
        "```"
      ]
    },
    {
      "cell_type": "code",
      "execution_count": null,
      "metadata": {
        "id": "9IJgxX5fzDV6",
        "colab": {
          "base_uri": "https://localhost:8080/"
        },
        "outputId": "82d09183-1c4d-457f-f385-2c29250199ee"
      },
      "outputs": [
        {
          "output_type": "execute_result",
          "data": {
            "text/plain": [
              "nan"
            ]
          },
          "metadata": {},
          "execution_count": 11
        }
      ],
      "source": [
        "0 * np.nan"
      ]
    },
    {
      "cell_type": "code",
      "source": [
        "np.nan == np.nan"
      ],
      "metadata": {
        "colab": {
          "base_uri": "https://localhost:8080/"
        },
        "id": "cPJHcdkpVnEz",
        "outputId": "d606c9ee-531e-4287-bb6b-4cf7fd5e8a86"
      },
      "execution_count": null,
      "outputs": [
        {
          "output_type": "execute_result",
          "data": {
            "text/plain": [
              "False"
            ]
          },
          "metadata": {},
          "execution_count": 12
        }
      ]
    },
    {
      "cell_type": "code",
      "source": [
        "np.inf > np.nan"
      ],
      "metadata": {
        "colab": {
          "base_uri": "https://localhost:8080/"
        },
        "id": "nhOeF__zVrql",
        "outputId": "83d8404f-d6a9-492f-cf4a-de3add0f119b"
      },
      "execution_count": null,
      "outputs": [
        {
          "output_type": "execute_result",
          "data": {
            "text/plain": [
              "False"
            ]
          },
          "metadata": {},
          "execution_count": 13
        }
      ]
    },
    {
      "cell_type": "code",
      "source": [
        "np.nan - np.nan"
      ],
      "metadata": {
        "colab": {
          "base_uri": "https://localhost:8080/"
        },
        "id": "E4qNN9zhVx3r",
        "outputId": "f0c1354c-e7c1-4d89-9b8a-fa9c6a579193"
      },
      "execution_count": null,
      "outputs": [
        {
          "output_type": "execute_result",
          "data": {
            "text/plain": [
              "nan"
            ]
          },
          "metadata": {},
          "execution_count": 14
        }
      ]
    },
    {
      "cell_type": "code",
      "source": [
        "0.3 == 3 * 0.1"
      ],
      "metadata": {
        "colab": {
          "base_uri": "https://localhost:8080/"
        },
        "id": "Rq8xmXKZVzxN",
        "outputId": "85169e6a-b2a0-4976-a8f9-0426c23894a0"
      },
      "execution_count": null,
      "outputs": [
        {
          "output_type": "execute_result",
          "data": {
            "text/plain": [
              "False"
            ]
          },
          "metadata": {},
          "execution_count": 15
        }
      ]
    },
    {
      "cell_type": "markdown",
      "metadata": {
        "id": "6IxmFmlNzDV6"
      },
      "source": [
        "#### 18. Create a 5x5 matrix with values 1,2,3,4 just below the diagonal (★☆☆) \n",
        "(**hint**: np.diag)"
      ]
    },
    {
      "cell_type": "code",
      "source": [
        "Z = np.diag(1+np.arange(4), k = -1)\n",
        "Z"
      ],
      "metadata": {
        "colab": {
          "base_uri": "https://localhost:8080/"
        },
        "id": "_M7y8guVXJ5J",
        "outputId": "c08330b8-0a57-403f-96ad-4c93f3f3c417"
      },
      "execution_count": null,
      "outputs": [
        {
          "output_type": "execute_result",
          "data": {
            "text/plain": [
              "array([[0, 0, 0, 0, 0],\n",
              "       [1, 0, 0, 0, 0],\n",
              "       [0, 2, 0, 0, 0],\n",
              "       [0, 0, 3, 0, 0],\n",
              "       [0, 0, 0, 4, 0]])"
            ]
          },
          "metadata": {},
          "execution_count": 20
        }
      ]
    },
    {
      "cell_type": "code",
      "source": [
        "x = np.diag([1, 2, 3, 4, 5])\n",
        "x"
      ],
      "metadata": {
        "colab": {
          "base_uri": "https://localhost:8080/"
        },
        "id": "JFccozY1XAas",
        "outputId": "d288b8dc-57cb-4bbc-a338-03c116bfaa4c"
      },
      "execution_count": null,
      "outputs": [
        {
          "output_type": "execute_result",
          "data": {
            "text/plain": [
              "array([[1, 0, 0, 0, 0],\n",
              "       [0, 2, 0, 0, 0],\n",
              "       [0, 0, 3, 0, 0],\n",
              "       [0, 0, 0, 4, 0],\n",
              "       [0, 0, 0, 0, 5]])"
            ]
          },
          "metadata": {},
          "execution_count": 17
        }
      ]
    },
    {
      "cell_type": "markdown",
      "metadata": {
        "id": "XrWCfQeIzDV7"
      },
      "source": [
        "#### 19. Create a 8x8 matrix and fill it with a checkerboard pattern (★☆☆) \n",
        "(**hint**: array\\[::2\\])"
      ]
    },
    {
      "cell_type": "code",
      "execution_count": null,
      "metadata": {
        "id": "6CBwPsKizDV8",
        "colab": {
          "base_uri": "https://localhost:8080/"
        },
        "outputId": "368fc533-db5d-4e42-c25f-bf72d0eece64"
      },
      "outputs": [
        {
          "output_type": "execute_result",
          "data": {
            "text/plain": [
              "array([[0, 0, 0, 0, 0, 0, 0, 0, 0, 0],\n",
              "       [0, 0, 0, 0, 0, 0, 0, 0, 0, 0],\n",
              "       [0, 0, 0, 0, 0, 0, 0, 0, 0, 0],\n",
              "       [0, 0, 0, 0, 0, 0, 0, 0, 0, 0],\n",
              "       [0, 0, 0, 0, 0, 0, 0, 0, 0, 0],\n",
              "       [0, 0, 0, 0, 0, 0, 0, 0, 0, 0],\n",
              "       [0, 0, 0, 0, 0, 0, 0, 0, 0, 0],\n",
              "       [0, 0, 0, 0, 0, 0, 0, 0, 0, 0],\n",
              "       [0, 0, 0, 0, 0, 0, 0, 0, 0, 0],\n",
              "       [0, 0, 0, 0, 0, 0, 0, 0, 0, 0]])"
            ]
          },
          "metadata": {},
          "execution_count": 23
        }
      ],
      "source": [
        "j = np.zeros ((10,10), dtype=int)\n",
        "j"
      ]
    },
    {
      "cell_type": "code",
      "source": [
        "j[1::2, ::2]= 1\n",
        "j"
      ],
      "metadata": {
        "colab": {
          "base_uri": "https://localhost:8080/"
        },
        "id": "fP6J9ux1X8Pg",
        "outputId": "7c8fa017-071f-4da1-9aba-12bcf7dc837c"
      },
      "execution_count": null,
      "outputs": [
        {
          "output_type": "execute_result",
          "data": {
            "text/plain": [
              "array([[0, 0, 0, 0, 0, 0, 0, 0, 0, 0],\n",
              "       [1, 0, 1, 0, 1, 0, 1, 0, 1, 0],\n",
              "       [0, 0, 0, 0, 0, 0, 0, 0, 0, 0],\n",
              "       [1, 0, 1, 0, 1, 0, 1, 0, 1, 0],\n",
              "       [0, 0, 0, 0, 0, 0, 0, 0, 0, 0],\n",
              "       [1, 0, 1, 0, 1, 0, 1, 0, 1, 0],\n",
              "       [0, 0, 0, 0, 0, 0, 0, 0, 0, 0],\n",
              "       [1, 0, 1, 0, 1, 0, 1, 0, 1, 0],\n",
              "       [0, 0, 0, 0, 0, 0, 0, 0, 0, 0],\n",
              "       [1, 0, 1, 0, 1, 0, 1, 0, 1, 0]])"
            ]
          },
          "metadata": {},
          "execution_count": 25
        }
      ]
    },
    {
      "cell_type": "code",
      "source": [
        "j[::2, 1::2] = 1\n",
        "j"
      ],
      "metadata": {
        "colab": {
          "base_uri": "https://localhost:8080/"
        },
        "id": "kbQStRI5YU_B",
        "outputId": "05f92818-27fa-4dda-e669-327dd45687b2"
      },
      "execution_count": null,
      "outputs": [
        {
          "output_type": "execute_result",
          "data": {
            "text/plain": [
              "array([[0, 1, 0, 1, 0, 1, 0, 1, 0, 1],\n",
              "       [1, 0, 1, 0, 1, 0, 1, 0, 1, 0],\n",
              "       [0, 1, 0, 1, 0, 1, 0, 1, 0, 1],\n",
              "       [1, 0, 1, 0, 1, 0, 1, 0, 1, 0],\n",
              "       [0, 1, 0, 1, 0, 1, 0, 1, 0, 1],\n",
              "       [1, 0, 1, 0, 1, 0, 1, 0, 1, 0],\n",
              "       [0, 1, 0, 1, 0, 1, 0, 1, 0, 1],\n",
              "       [1, 0, 1, 0, 1, 0, 1, 0, 1, 0],\n",
              "       [0, 1, 0, 1, 0, 1, 0, 1, 0, 1],\n",
              "       [1, 0, 1, 0, 1, 0, 1, 0, 1, 0]])"
            ]
          },
          "metadata": {},
          "execution_count": 26
        }
      ]
    },
    {
      "cell_type": "code",
      "source": [
        "import pandas as pd"
      ],
      "metadata": {
        "id": "ZyK4glLfY8aP"
      },
      "execution_count": null,
      "outputs": []
    },
    {
      "cell_type": "code",
      "source": [
        "df = pd.DataFrame(j, columns = np.arange(10))\n",
        "df"
      ],
      "metadata": {
        "colab": {
          "base_uri": "https://localhost:8080/",
          "height": 363
        },
        "id": "jRfpTHjzY13J",
        "outputId": "d8847d12-f193-4a60-fcde-dd3e23cce959"
      },
      "execution_count": null,
      "outputs": [
        {
          "output_type": "execute_result",
          "data": {
            "text/plain": [
              "   0  1  2  3  4  5  6  7  8  9\n",
              "0  0  1  0  1  0  1  0  1  0  1\n",
              "1  1  0  1  0  1  0  1  0  1  0\n",
              "2  0  1  0  1  0  1  0  1  0  1\n",
              "3  1  0  1  0  1  0  1  0  1  0\n",
              "4  0  1  0  1  0  1  0  1  0  1\n",
              "5  1  0  1  0  1  0  1  0  1  0\n",
              "6  0  1  0  1  0  1  0  1  0  1\n",
              "7  1  0  1  0  1  0  1  0  1  0\n",
              "8  0  1  0  1  0  1  0  1  0  1\n",
              "9  1  0  1  0  1  0  1  0  1  0"
            ],
            "text/html": [
              "\n",
              "  <div id=\"df-c135e671-1e8c-42a3-8748-db4bfb5c1fb5\">\n",
              "    <div class=\"colab-df-container\">\n",
              "      <div>\n",
              "<style scoped>\n",
              "    .dataframe tbody tr th:only-of-type {\n",
              "        vertical-align: middle;\n",
              "    }\n",
              "\n",
              "    .dataframe tbody tr th {\n",
              "        vertical-align: top;\n",
              "    }\n",
              "\n",
              "    .dataframe thead th {\n",
              "        text-align: right;\n",
              "    }\n",
              "</style>\n",
              "<table border=\"1\" class=\"dataframe\">\n",
              "  <thead>\n",
              "    <tr style=\"text-align: right;\">\n",
              "      <th></th>\n",
              "      <th>0</th>\n",
              "      <th>1</th>\n",
              "      <th>2</th>\n",
              "      <th>3</th>\n",
              "      <th>4</th>\n",
              "      <th>5</th>\n",
              "      <th>6</th>\n",
              "      <th>7</th>\n",
              "      <th>8</th>\n",
              "      <th>9</th>\n",
              "    </tr>\n",
              "  </thead>\n",
              "  <tbody>\n",
              "    <tr>\n",
              "      <th>0</th>\n",
              "      <td>0</td>\n",
              "      <td>1</td>\n",
              "      <td>0</td>\n",
              "      <td>1</td>\n",
              "      <td>0</td>\n",
              "      <td>1</td>\n",
              "      <td>0</td>\n",
              "      <td>1</td>\n",
              "      <td>0</td>\n",
              "      <td>1</td>\n",
              "    </tr>\n",
              "    <tr>\n",
              "      <th>1</th>\n",
              "      <td>1</td>\n",
              "      <td>0</td>\n",
              "      <td>1</td>\n",
              "      <td>0</td>\n",
              "      <td>1</td>\n",
              "      <td>0</td>\n",
              "      <td>1</td>\n",
              "      <td>0</td>\n",
              "      <td>1</td>\n",
              "      <td>0</td>\n",
              "    </tr>\n",
              "    <tr>\n",
              "      <th>2</th>\n",
              "      <td>0</td>\n",
              "      <td>1</td>\n",
              "      <td>0</td>\n",
              "      <td>1</td>\n",
              "      <td>0</td>\n",
              "      <td>1</td>\n",
              "      <td>0</td>\n",
              "      <td>1</td>\n",
              "      <td>0</td>\n",
              "      <td>1</td>\n",
              "    </tr>\n",
              "    <tr>\n",
              "      <th>3</th>\n",
              "      <td>1</td>\n",
              "      <td>0</td>\n",
              "      <td>1</td>\n",
              "      <td>0</td>\n",
              "      <td>1</td>\n",
              "      <td>0</td>\n",
              "      <td>1</td>\n",
              "      <td>0</td>\n",
              "      <td>1</td>\n",
              "      <td>0</td>\n",
              "    </tr>\n",
              "    <tr>\n",
              "      <th>4</th>\n",
              "      <td>0</td>\n",
              "      <td>1</td>\n",
              "      <td>0</td>\n",
              "      <td>1</td>\n",
              "      <td>0</td>\n",
              "      <td>1</td>\n",
              "      <td>0</td>\n",
              "      <td>1</td>\n",
              "      <td>0</td>\n",
              "      <td>1</td>\n",
              "    </tr>\n",
              "    <tr>\n",
              "      <th>5</th>\n",
              "      <td>1</td>\n",
              "      <td>0</td>\n",
              "      <td>1</td>\n",
              "      <td>0</td>\n",
              "      <td>1</td>\n",
              "      <td>0</td>\n",
              "      <td>1</td>\n",
              "      <td>0</td>\n",
              "      <td>1</td>\n",
              "      <td>0</td>\n",
              "    </tr>\n",
              "    <tr>\n",
              "      <th>6</th>\n",
              "      <td>0</td>\n",
              "      <td>1</td>\n",
              "      <td>0</td>\n",
              "      <td>1</td>\n",
              "      <td>0</td>\n",
              "      <td>1</td>\n",
              "      <td>0</td>\n",
              "      <td>1</td>\n",
              "      <td>0</td>\n",
              "      <td>1</td>\n",
              "    </tr>\n",
              "    <tr>\n",
              "      <th>7</th>\n",
              "      <td>1</td>\n",
              "      <td>0</td>\n",
              "      <td>1</td>\n",
              "      <td>0</td>\n",
              "      <td>1</td>\n",
              "      <td>0</td>\n",
              "      <td>1</td>\n",
              "      <td>0</td>\n",
              "      <td>1</td>\n",
              "      <td>0</td>\n",
              "    </tr>\n",
              "    <tr>\n",
              "      <th>8</th>\n",
              "      <td>0</td>\n",
              "      <td>1</td>\n",
              "      <td>0</td>\n",
              "      <td>1</td>\n",
              "      <td>0</td>\n",
              "      <td>1</td>\n",
              "      <td>0</td>\n",
              "      <td>1</td>\n",
              "      <td>0</td>\n",
              "      <td>1</td>\n",
              "    </tr>\n",
              "    <tr>\n",
              "      <th>9</th>\n",
              "      <td>1</td>\n",
              "      <td>0</td>\n",
              "      <td>1</td>\n",
              "      <td>0</td>\n",
              "      <td>1</td>\n",
              "      <td>0</td>\n",
              "      <td>1</td>\n",
              "      <td>0</td>\n",
              "      <td>1</td>\n",
              "      <td>0</td>\n",
              "    </tr>\n",
              "  </tbody>\n",
              "</table>\n",
              "</div>\n",
              "      <button class=\"colab-df-convert\" onclick=\"convertToInteractive('df-c135e671-1e8c-42a3-8748-db4bfb5c1fb5')\"\n",
              "              title=\"Convert this dataframe to an interactive table.\"\n",
              "              style=\"display:none;\">\n",
              "        \n",
              "  <svg xmlns=\"http://www.w3.org/2000/svg\" height=\"24px\"viewBox=\"0 0 24 24\"\n",
              "       width=\"24px\">\n",
              "    <path d=\"M0 0h24v24H0V0z\" fill=\"none\"/>\n",
              "    <path d=\"M18.56 5.44l.94 2.06.94-2.06 2.06-.94-2.06-.94-.94-2.06-.94 2.06-2.06.94zm-11 1L8.5 8.5l.94-2.06 2.06-.94-2.06-.94L8.5 2.5l-.94 2.06-2.06.94zm10 10l.94 2.06.94-2.06 2.06-.94-2.06-.94-.94-2.06-.94 2.06-2.06.94z\"/><path d=\"M17.41 7.96l-1.37-1.37c-.4-.4-.92-.59-1.43-.59-.52 0-1.04.2-1.43.59L10.3 9.45l-7.72 7.72c-.78.78-.78 2.05 0 2.83L4 21.41c.39.39.9.59 1.41.59.51 0 1.02-.2 1.41-.59l7.78-7.78 2.81-2.81c.8-.78.8-2.07 0-2.86zM5.41 20L4 18.59l7.72-7.72 1.47 1.35L5.41 20z\"/>\n",
              "  </svg>\n",
              "      </button>\n",
              "      \n",
              "  <style>\n",
              "    .colab-df-container {\n",
              "      display:flex;\n",
              "      flex-wrap:wrap;\n",
              "      gap: 12px;\n",
              "    }\n",
              "\n",
              "    .colab-df-convert {\n",
              "      background-color: #E8F0FE;\n",
              "      border: none;\n",
              "      border-radius: 50%;\n",
              "      cursor: pointer;\n",
              "      display: none;\n",
              "      fill: #1967D2;\n",
              "      height: 32px;\n",
              "      padding: 0 0 0 0;\n",
              "      width: 32px;\n",
              "    }\n",
              "\n",
              "    .colab-df-convert:hover {\n",
              "      background-color: #E2EBFA;\n",
              "      box-shadow: 0px 1px 2px rgba(60, 64, 67, 0.3), 0px 1px 3px 1px rgba(60, 64, 67, 0.15);\n",
              "      fill: #174EA6;\n",
              "    }\n",
              "\n",
              "    [theme=dark] .colab-df-convert {\n",
              "      background-color: #3B4455;\n",
              "      fill: #D2E3FC;\n",
              "    }\n",
              "\n",
              "    [theme=dark] .colab-df-convert:hover {\n",
              "      background-color: #434B5C;\n",
              "      box-shadow: 0px 1px 3px 1px rgba(0, 0, 0, 0.15);\n",
              "      filter: drop-shadow(0px 1px 2px rgba(0, 0, 0, 0.3));\n",
              "      fill: #FFFFFF;\n",
              "    }\n",
              "  </style>\n",
              "\n",
              "      <script>\n",
              "        const buttonEl =\n",
              "          document.querySelector('#df-c135e671-1e8c-42a3-8748-db4bfb5c1fb5 button.colab-df-convert');\n",
              "        buttonEl.style.display =\n",
              "          google.colab.kernel.accessAllowed ? 'block' : 'none';\n",
              "\n",
              "        async function convertToInteractive(key) {\n",
              "          const element = document.querySelector('#df-c135e671-1e8c-42a3-8748-db4bfb5c1fb5');\n",
              "          const dataTable =\n",
              "            await google.colab.kernel.invokeFunction('convertToInteractive',\n",
              "                                                     [key], {});\n",
              "          if (!dataTable) return;\n",
              "\n",
              "          const docLinkHtml = 'Like what you see? Visit the ' +\n",
              "            '<a target=\"_blank\" href=https://colab.research.google.com/notebooks/data_table.ipynb>data table notebook</a>'\n",
              "            + ' to learn more about interactive tables.';\n",
              "          element.innerHTML = '';\n",
              "          dataTable['output_type'] = 'display_data';\n",
              "          await google.colab.output.renderOutput(dataTable, element);\n",
              "          const docLink = document.createElement('div');\n",
              "          docLink.innerHTML = docLinkHtml;\n",
              "          element.appendChild(docLink);\n",
              "        }\n",
              "      </script>\n",
              "    </div>\n",
              "  </div>\n",
              "  "
            ]
          },
          "metadata": {},
          "execution_count": 29
        }
      ]
    },
    {
      "cell_type": "markdown",
      "metadata": {
        "id": "ASOSgLnXzDV8"
      },
      "source": [
        "#### 20. Consider a (6,7,8) shape array, what is the index (x,y,z) of the 100th element? \n",
        "(**hint**: np.unravel_index)"
      ]
    },
    {
      "cell_type": "code",
      "execution_count": null,
      "metadata": {
        "id": "PQLP680pzDV9",
        "colab": {
          "base_uri": "https://localhost:8080/"
        },
        "outputId": "78696bb0-4f54-4069-9b99-c4d980ee8ac0"
      },
      "outputs": [
        {
          "output_type": "execute_result",
          "data": {
            "text/plain": [
              "336"
            ]
          },
          "metadata": {},
          "execution_count": 39
        }
      ],
      "source": [
        "s=np.random.random((6,7,8))\n",
        "s.size"
      ]
    },
    {
      "cell_type": "code",
      "source": [
        "s[1]"
      ],
      "metadata": {
        "colab": {
          "base_uri": "https://localhost:8080/"
        },
        "id": "KOGfinS-dYQC",
        "outputId": "1b19bc26-a44b-48f7-8d3f-83b0f0acbe98"
      },
      "execution_count": null,
      "outputs": [
        {
          "output_type": "execute_result",
          "data": {
            "text/plain": [
              "array([[0.96555391, 0.30978407, 0.7931265 , 0.03502346, 0.6962592 ,\n",
              "        0.77356096, 0.37205999, 0.22911608],\n",
              "       [0.55674793, 0.59846706, 0.34343239, 0.47791176, 0.20400799,\n",
              "        0.44089188, 0.12854189, 0.60402311],\n",
              "       [0.66566529, 0.00855546, 0.93728032, 0.58052343, 0.43858478,\n",
              "        0.94797946, 0.83816699, 0.96493925],\n",
              "       [0.38546239, 0.54638298, 0.2320595 , 0.05607014, 0.26796494,\n",
              "        0.70200547, 0.20004621, 0.92102868],\n",
              "       [0.13378073, 0.09930334, 0.58204376, 0.83221319, 0.76140455,\n",
              "        0.48537981, 0.61086583, 0.06679135],\n",
              "       [0.1039445 , 0.80377457, 0.55660558, 0.92039094, 0.73846661,\n",
              "        0.51921213, 0.63109518, 0.87709408],\n",
              "       [0.78430489, 0.52245539, 0.45635909, 0.88478261, 0.55103411,\n",
              "        0.4388654 , 0.75273249, 0.74872051]])"
            ]
          },
          "metadata": {},
          "execution_count": 40
        }
      ]
    },
    {
      "cell_type": "code",
      "source": [
        "np.unravel_index(100, (6,7,8))"
      ],
      "metadata": {
        "colab": {
          "base_uri": "https://localhost:8080/"
        },
        "id": "IVuuuBvza95s",
        "outputId": "0da365ba-1948-4fe1-bc8f-29fc663a529b"
      },
      "execution_count": null,
      "outputs": [
        {
          "output_type": "execute_result",
          "data": {
            "text/plain": [
              "(1, 5, 4)"
            ]
          },
          "metadata": {},
          "execution_count": 37
        }
      ]
    },
    {
      "cell_type": "code",
      "source": [
        "s[1,5,4]"
      ],
      "metadata": {
        "colab": {
          "base_uri": "https://localhost:8080/"
        },
        "id": "c-g4cFe7cViO",
        "outputId": "24c45b62-768a-4232-f10f-67f31e3e5e02"
      },
      "execution_count": null,
      "outputs": [
        {
          "output_type": "execute_result",
          "data": {
            "text/plain": [
              "0.7384666148025599"
            ]
          },
          "metadata": {},
          "execution_count": 41
        }
      ]
    },
    {
      "cell_type": "markdown",
      "metadata": {
        "id": "PjrSOAo3zDV9"
      },
      "source": [
        "#### 21. Create a checkerboard 8x8 matrix using the tile function (★☆☆) \n",
        "(**hint**: np.tile)"
      ]
    },
    {
      "cell_type": "code",
      "execution_count": null,
      "metadata": {
        "id": "DOnJzrNrzDV_",
        "colab": {
          "base_uri": "https://localhost:8080/"
        },
        "outputId": "0838eabf-b1c1-410c-8a5f-c90f32d988a0"
      },
      "outputs": [
        {
          "output_type": "execute_result",
          "data": {
            "text/plain": [
              "array([[0, 1],\n",
              "       [1, 0]])"
            ]
          },
          "metadata": {},
          "execution_count": 42
        }
      ],
      "source": [
        "e=np.array([[0,1],[1,0]])\n",
        "e"
      ]
    },
    {
      "cell_type": "code",
      "source": [
        "np.tile(e,(4,4))"
      ],
      "metadata": {
        "colab": {
          "base_uri": "https://localhost:8080/"
        },
        "id": "BfheHn1ygsqn",
        "outputId": "30adc86d-5eae-47fb-826f-7e39edc07a8b"
      },
      "execution_count": null,
      "outputs": [
        {
          "output_type": "execute_result",
          "data": {
            "text/plain": [
              "array([[0, 1, 0, 1, 0, 1, 0, 1],\n",
              "       [1, 0, 1, 0, 1, 0, 1, 0],\n",
              "       [0, 1, 0, 1, 0, 1, 0, 1],\n",
              "       [1, 0, 1, 0, 1, 0, 1, 0],\n",
              "       [0, 1, 0, 1, 0, 1, 0, 1],\n",
              "       [1, 0, 1, 0, 1, 0, 1, 0],\n",
              "       [0, 1, 0, 1, 0, 1, 0, 1],\n",
              "       [1, 0, 1, 0, 1, 0, 1, 0]])"
            ]
          },
          "metadata": {},
          "execution_count": 43
        }
      ]
    },
    {
      "cell_type": "markdown",
      "metadata": {
        "id": "Wzl2ktsEzDV_"
      },
      "source": [
        "#### 22. Normalize a 5x5 random matrix (★☆☆) \n",
        "(**hint**: (x - min) / (max - min))"
      ]
    },
    {
      "cell_type": "code",
      "execution_count": null,
      "metadata": {
        "id": "NHVlHxFQzDV_",
        "colab": {
          "base_uri": "https://localhost:8080/"
        },
        "outputId": "52d51afe-de0f-4a00-db32-05a03db483af"
      },
      "outputs": [
        {
          "output_type": "execute_result",
          "data": {
            "text/plain": [
              "array([[15,  9, 22, 12, 16],\n",
              "       [14, 92, 22, 40, 23],\n",
              "       [ 1, 83, 18, 47, 65],\n",
              "       [16, 66, 44, 44,  7],\n",
              "       [37, 15, 31, 58, 96]])"
            ]
          },
          "metadata": {},
          "execution_count": 35
        }
      ],
      "source": [
        "w=np.random.randint(1,101,25)\n",
        "u=np.reshape(w,(5,5))\n",
        "u"
      ]
    },
    {
      "cell_type": "code",
      "source": [
        "umax, umin = u.max(), u.min()\n",
        "u= (u-umin)/(umax-umin)\n",
        "u"
      ],
      "metadata": {
        "colab": {
          "base_uri": "https://localhost:8080/"
        },
        "id": "CwDnEMXjnrJF",
        "outputId": "24f8a896-2f9e-4cc9-f42b-42f3d84e291b"
      },
      "execution_count": null,
      "outputs": [
        {
          "output_type": "execute_result",
          "data": {
            "text/plain": [
              "array([[0.14736842, 0.08421053, 0.22105263, 0.11578947, 0.15789474],\n",
              "       [0.13684211, 0.95789474, 0.22105263, 0.41052632, 0.23157895],\n",
              "       [0.        , 0.86315789, 0.17894737, 0.48421053, 0.67368421],\n",
              "       [0.15789474, 0.68421053, 0.45263158, 0.45263158, 0.06315789],\n",
              "       [0.37894737, 0.14736842, 0.31578947, 0.6       , 1.        ]])"
            ]
          },
          "metadata": {},
          "execution_count": 36
        }
      ]
    },
    {
      "cell_type": "markdown",
      "metadata": {
        "id": "rRFYPBLjzDWA"
      },
      "source": [
        "#### 23. Create a custom dtype that describes a color as four unsigned bytes (RGBA) (★☆☆) \n",
        "(**hint**: np.dtype)"
      ]
    },
    {
      "cell_type": "code",
      "execution_count": null,
      "metadata": {
        "collapsed": true,
        "id": "l8jjHsTizDWA",
        "colab": {
          "base_uri": "https://localhost:8080/"
        },
        "outputId": "f0a6ebfe-8377-46d1-ddc1-4c41229c45b2"
      },
      "outputs": [
        {
          "output_type": "stream",
          "name": "stderr",
          "text": [
            "/usr/local/lib/python3.7/dist-packages/ipykernel_launcher.py:4: FutureWarning: Passing (type, 1) or '1type' as a synonym of type is deprecated; in a future version of numpy, it will be understood as (type, (1,)) / '(1,)type'.\n",
            "  after removing the cwd from sys.path.\n"
          ]
        }
      ],
      "source": [
        "color = np.dtype([(\"R\", np.ubyte, 1),\n",
        "                  (\"G\", np.ubyte, 1),\n",
        "                  (\"B\", np.ubyte, 1),\n",
        "                  (\"A\", np.ubyte, 1)])"
      ]
    },
    {
      "cell_type": "markdown",
      "metadata": {
        "id": "uGLyyNYCzDWA"
      },
      "source": [
        "#### 24. Multiply a 5x3 matrix by a 3x2 matrix (real matrix product) (★☆☆) \n",
        "(**hint**: np.dot | @)"
      ]
    },
    {
      "cell_type": "code",
      "execution_count": null,
      "metadata": {
        "id": "j08IJy3XzDWA"
      },
      "outputs": [],
      "source": [
        "w=np.random.randint(1,16,15)\n",
        "c=np.random.randint(1,7,6)\n",
        "a=np.reshape(w,(5,3))\n",
        "b=np.reshape(c,(3,2))"
      ]
    },
    {
      "cell_type": "code",
      "source": [
        "a"
      ],
      "metadata": {
        "colab": {
          "base_uri": "https://localhost:8080/"
        },
        "id": "VliX_qp4w__g",
        "outputId": "b6a0a58e-c18d-4a37-c137-6785052153ea"
      },
      "execution_count": null,
      "outputs": [
        {
          "output_type": "execute_result",
          "data": {
            "text/plain": [
              "array([[11, 15,  6],\n",
              "       [11,  7,  5],\n",
              "       [ 1,  9,  8],\n",
              "       [ 4, 10, 12],\n",
              "       [13, 12,  3]])"
            ]
          },
          "metadata": {},
          "execution_count": 41
        }
      ]
    },
    {
      "cell_type": "code",
      "source": [
        "b"
      ],
      "metadata": {
        "colab": {
          "base_uri": "https://localhost:8080/"
        },
        "id": "L4TYTpl_xCrg",
        "outputId": "e1518710-cb37-4375-ffbd-d3a8ecc58ed0"
      },
      "execution_count": null,
      "outputs": [
        {
          "output_type": "execute_result",
          "data": {
            "text/plain": [
              "array([[3, 5],\n",
              "       [1, 1],\n",
              "       [2, 5]])"
            ]
          },
          "metadata": {},
          "execution_count": 42
        }
      ]
    },
    {
      "cell_type": "code",
      "source": [
        "a.dot(b)"
      ],
      "metadata": {
        "colab": {
          "base_uri": "https://localhost:8080/"
        },
        "id": "BKibu19VxGYv",
        "outputId": "44246cbe-0b04-4457-f9f5-ff8a1e0bff43"
      },
      "execution_count": null,
      "outputs": [
        {
          "output_type": "execute_result",
          "data": {
            "text/plain": [
              "array([[ 60, 100],\n",
              "       [ 50,  87],\n",
              "       [ 28,  54],\n",
              "       [ 46,  90],\n",
              "       [ 57,  92]])"
            ]
          },
          "metadata": {},
          "execution_count": 43
        }
      ]
    },
    {
      "cell_type": "markdown",
      "source": [
        "# **or**"
      ],
      "metadata": {
        "id": "_U-MpBMdxpau"
      }
    },
    {
      "cell_type": "code",
      "source": [
        "d=np.dot(a,b,out=None)\n",
        "d"
      ],
      "metadata": {
        "colab": {
          "base_uri": "https://localhost:8080/"
        },
        "id": "6FugZ-7Xxcc8",
        "outputId": "e0ad2afc-bd1e-4660-a4cd-30d19a55d775"
      },
      "execution_count": null,
      "outputs": [
        {
          "output_type": "execute_result",
          "data": {
            "text/plain": [
              "array([[ 60, 100],\n",
              "       [ 50,  87],\n",
              "       [ 28,  54],\n",
              "       [ 46,  90],\n",
              "       [ 57,  92]])"
            ]
          },
          "metadata": {},
          "execution_count": 44
        }
      ]
    },
    {
      "cell_type": "markdown",
      "metadata": {
        "id": "d3OGE7jEzDWA"
      },
      "source": [
        "#### 25. Given a 1D array, negate all elements which are between 3 and 8, in place. (★☆☆) \n",
        "(**hint**: >, <=)"
      ]
    },
    {
      "cell_type": "code",
      "execution_count": null,
      "metadata": {
        "id": "zBOS75sHzDWB",
        "colab": {
          "base_uri": "https://localhost:8080/"
        },
        "outputId": "dd38190f-5122-4b0c-e1c4-2114e0415570"
      },
      "outputs": [
        {
          "output_type": "stream",
          "name": "stdout",
          "text": [
            "[ 0  1  2  3 -4 -5 -6 -7 -8  9 10]\n"
          ]
        }
      ],
      "source": [
        "Z = np.arange(11)\n",
        "Z[(3 < Z) & (Z <= 8)] *= -1\n",
        "print(Z)"
      ]
    },
    {
      "cell_type": "markdown",
      "metadata": {
        "id": "YAiTDm2TzDWB"
      },
      "source": [
        "#### 26. What is the output of the following script? (★☆☆) \n",
        "(**hint**: np.sum)"
      ]
    },
    {
      "cell_type": "markdown",
      "metadata": {
        "id": "ePyK1vw-zDWB"
      },
      "source": [
        "```python\n",
        "# Author: Jake VanderPlas\n",
        "\n",
        "print(sum(range(5),-1))\n",
        "from numpy import *\n",
        "print(sum(range(5),-1))\n",
        "```"
      ]
    },
    {
      "cell_type": "code",
      "execution_count": null,
      "metadata": {
        "id": "s25YfujczDWB",
        "colab": {
          "base_uri": "https://localhost:8080/"
        },
        "outputId": "00554591-1efc-4190-e7be-27a0703744f2"
      },
      "outputs": [
        {
          "output_type": "stream",
          "name": "stdout",
          "text": [
            "9\n"
          ]
        }
      ],
      "source": [
        "print(sum(range(5),-1)) # 0+1+2+3+4+(-1)"
      ]
    },
    {
      "cell_type": "code",
      "source": [
        "from numpy import *"
      ],
      "metadata": {
        "id": "Bs8pyUUozUzx"
      },
      "execution_count": null,
      "outputs": []
    },
    {
      "cell_type": "markdown",
      "source": [
        "takes all definitions from the module and places them into your\n",
        "current namespace.  At this point, it would be fine to use a command\n",
        "such as \n",
        "\n",
        "  values = array([1.0, 2.0, 3.0])\n",
        "\n",
        "instead of values = numpy.array([1.0, 2.0, 3.0])  "
      ],
      "metadata": {
        "id": "-Ea0r71M0nUr"
      }
    },
    {
      "cell_type": "code",
      "source": [
        "print(sum(range(5),-1)) #0+1+2+3+4 on axis=-1"
      ],
      "metadata": {
        "colab": {
          "base_uri": "https://localhost:8080/"
        },
        "id": "-BC00TjX0NNJ",
        "outputId": "eed96b7e-fcf7-4149-f660-6b4ac0b510e3"
      },
      "execution_count": null,
      "outputs": [
        {
          "output_type": "stream",
          "name": "stdout",
          "text": [
            "10\n"
          ]
        }
      ]
    },
    {
      "cell_type": "code",
      "source": [
        "import numpy as np"
      ],
      "metadata": {
        "id": "_IRRRobF1Zw3"
      },
      "execution_count": null,
      "outputs": []
    },
    {
      "cell_type": "markdown",
      "metadata": {
        "id": "HWTGGPzhzDWB"
      },
      "source": [
        "#### 27. Consider an integer vector Z, which of these expressions are legal? (★☆☆)"
      ]
    },
    {
      "cell_type": "markdown",
      "metadata": {
        "id": "-nSLUXQSzDWC"
      },
      "source": [
        "```python\n",
        "Z**Z false\n",
        "2 << Z >> 2\n",
        "Z <- Z\n",
        "1j*Z\n",
        "Z/1/1\n",
        "Z<Z>Z false\n",
        "```"
      ]
    },
    {
      "cell_type": "code",
      "source": [
        "Z = np.arange(11)\n",
        "Z"
      ],
      "metadata": {
        "colab": {
          "base_uri": "https://localhost:8080/"
        },
        "id": "zIpL2gJh2j2N",
        "outputId": "f21c3e70-8e32-46d2-b51e-660bd629becc"
      },
      "execution_count": null,
      "outputs": [
        {
          "output_type": "execute_result",
          "data": {
            "text/plain": [
              "array([ 0,  1,  2,  3,  4,  5,  6,  7,  8,  9, 10])"
            ]
          },
          "metadata": {},
          "execution_count": 61
        }
      ]
    },
    {
      "cell_type": "code",
      "source": [
        "2 << Z >> 2"
      ],
      "metadata": {
        "colab": {
          "base_uri": "https://localhost:8080/"
        },
        "id": "BysK_xA01wlC",
        "outputId": "fff01e0d-32cb-45a6-a693-d9c0dec95b5b"
      },
      "execution_count": null,
      "outputs": [
        {
          "output_type": "execute_result",
          "data": {
            "text/plain": [
              "array([  0,   1,   2,   4,   8,  16,  32,  64, 128, 256, 512])"
            ]
          },
          "metadata": {},
          "execution_count": 62
        }
      ]
    },
    {
      "cell_type": "code",
      "source": [
        "Z <- Z"
      ],
      "metadata": {
        "colab": {
          "base_uri": "https://localhost:8080/"
        },
        "id": "tDix5aQ25YmE",
        "outputId": "2c9e9629-0b31-4332-dbae-cdcd3721c1c3"
      },
      "execution_count": null,
      "outputs": [
        {
          "output_type": "execute_result",
          "data": {
            "text/plain": [
              "array([False, False, False, False, False, False, False, False, False,\n",
              "       False, False])"
            ]
          },
          "metadata": {},
          "execution_count": 63
        }
      ]
    },
    {
      "cell_type": "markdown",
      "source": [
        "The operators << and >> are bit shift operators (left and right, respectively). In your particular example (with <<), you are performing x = x * 2^z for each array element, resulting in your modified output. The operator >> in the same example would yield an output characterized by x = x / 2^z for each array element."
      ],
      "metadata": {
        "id": "PUlULLsN2OCt"
      }
    },
    {
      "cell_type": "markdown",
      "metadata": {
        "id": "qCVKsDJdzDWC"
      },
      "source": [
        "#### 28. What are the result of the following expressions?"
      ]
    },
    {
      "cell_type": "markdown",
      "metadata": {
        "id": "AzvwYUQjzDWC"
      },
      "source": [
        "```python\n",
        "np.array(0) / np.array(0)\n",
        "np.array(0) // np.array(0)\n",
        "np.array([np.nan]).astype(int).astype(float)\n",
        "```"
      ]
    },
    {
      "cell_type": "markdown",
      "metadata": {
        "id": "cYYaat8hzDWD"
      },
      "source": [
        "#### 29. How to round away from zero a float array ? (★☆☆) \n",
        "(**hint**: np.uniform, np.copysign, np.ceil, np.abs)"
      ]
    },
    {
      "cell_type": "code",
      "execution_count": null,
      "metadata": {
        "id": "1URVvGYVzDWD",
        "colab": {
          "base_uri": "https://localhost:8080/"
        },
        "outputId": "97105dfc-9800-4244-ed1e-8bc72cf61a27"
      },
      "outputs": [
        {
          "output_type": "stream",
          "name": "stdout",
          "text": [
            "[ 3.  4. -8.  9. -8.  6. -1. -7. -2. -9.]\n"
          ]
        }
      ],
      "source": [
        "Z = np.random.uniform(-10,+10,10)\n",
        "print (np.copysign(np.ceil(np.abs(Z)), Z))"
      ]
    },
    {
      "cell_type": "markdown",
      "metadata": {
        "id": "fXMvzFLBzDWD"
      },
      "source": [
        "#### 30. How to find common values between two arrays? (★☆☆) \n",
        "(**hint**: np.intersect1d)"
      ]
    },
    {
      "cell_type": "code",
      "source": [
        "Z1 = np.random.randint(0,10,10)\n",
        "Z1"
      ],
      "metadata": {
        "colab": {
          "base_uri": "https://localhost:8080/"
        },
        "id": "8tlmG5Xy9aO-",
        "outputId": "e441cabc-cc26-4d97-e376-0dc90ab5f313"
      },
      "execution_count": null,
      "outputs": [
        {
          "output_type": "execute_result",
          "data": {
            "text/plain": [
              "array([3, 6, 3, 8, 5, 4, 2, 8, 5, 3])"
            ]
          },
          "metadata": {},
          "execution_count": 68
        }
      ]
    },
    {
      "cell_type": "code",
      "source": [
        "Z2 = np.random.randint(0,10,10)\n",
        "Z2 "
      ],
      "metadata": {
        "colab": {
          "base_uri": "https://localhost:8080/"
        },
        "id": "mQfhaJoe9gSk",
        "outputId": "cd37f12a-5f5d-40be-8bf5-9068205bbacf"
      },
      "execution_count": null,
      "outputs": [
        {
          "output_type": "execute_result",
          "data": {
            "text/plain": [
              "array([6, 5, 8, 6, 2, 9, 6, 6, 8, 2])"
            ]
          },
          "metadata": {},
          "execution_count": 69
        }
      ]
    },
    {
      "cell_type": "code",
      "execution_count": null,
      "metadata": {
        "id": "lAcvpED9zDWD",
        "colab": {
          "base_uri": "https://localhost:8080/"
        },
        "outputId": "206aebc4-fb73-4ba8-fa92-d2e8bf781e2b"
      },
      "outputs": [
        {
          "output_type": "stream",
          "name": "stdout",
          "text": [
            "[2 5 6 8]\n"
          ]
        }
      ],
      "source": [
        "print(np.intersect1d(Z1,Z2))"
      ]
    },
    {
      "cell_type": "markdown",
      "metadata": {
        "id": "hKHh5gZtzDWD"
      },
      "source": [
        "#### 31. How to ignore all numpy warnings (not recommended)? (★☆☆) \n",
        "(**hint**: np.seterr, np.errstate)"
      ]
    },
    {
      "cell_type": "code",
      "execution_count": null,
      "metadata": {
        "id": "H9honUoYzDWD",
        "colab": {
          "base_uri": "https://localhost:8080/"
        },
        "outputId": "d8746912-4db0-4e08-e3ad-18afb49eae01"
      },
      "outputs": [
        {
          "output_type": "execute_result",
          "data": {
            "text/plain": [
              "{'divide': 'warn', 'invalid': 'warn', 'over': 'warn', 'under': 'ignore'}"
            ]
          },
          "metadata": {},
          "execution_count": 4
        }
      ],
      "source": [
        "np.seterr(all='ignore')"
      ]
    },
    {
      "cell_type": "markdown",
      "metadata": {
        "id": "WAA8xIMjzDWE"
      },
      "source": [
        "#### 32. Is the following expressions true? (★☆☆) \n",
        "(**hint**: imaginary number)"
      ]
    },
    {
      "cell_type": "markdown",
      "metadata": {
        "id": "yxsb-vJBzDWE"
      },
      "source": [
        "```python\n",
        "np.sqrt(-1) == np.emath.sqrt(-1)\n",
        "```"
      ]
    },
    {
      "cell_type": "code",
      "execution_count": null,
      "metadata": {
        "id": "Lqqh_xHHzDWE",
        "colab": {
          "base_uri": "https://localhost:8080/"
        },
        "outputId": "b34a0b33-2e93-476d-cdbf-525ab464ace9"
      },
      "outputs": [
        {
          "output_type": "execute_result",
          "data": {
            "text/plain": [
              "False"
            ]
          },
          "metadata": {},
          "execution_count": 5
        }
      ],
      "source": [
        "np.sqrt(-1) == np.emath.sqrt(-1)"
      ]
    },
    {
      "cell_type": "markdown",
      "metadata": {
        "id": "oeOHDP51zDWE"
      },
      "source": [
        "#### 33. How to get the dates of yesterday, today and tomorrow? (★☆☆) \n",
        "(**hint**: np.datetime64, np.timedelta64)"
      ]
    },
    {
      "cell_type": "code",
      "execution_count": null,
      "metadata": {
        "collapsed": true,
        "id": "aoBOiq86zDWE",
        "colab": {
          "base_uri": "https://localhost:8080/"
        },
        "outputId": "00bb0999-d99b-4480-fa54-f18ed2df1809"
      },
      "outputs": [
        {
          "output_type": "stream",
          "name": "stdout",
          "text": [
            "Yestraday:  2022-03-27\n",
            "Today:  2022-03-28\n",
            "Tomorrow:  2022-03-29\n"
          ]
        }
      ],
      "source": [
        "import numpy as np\n",
        "yesterday = np.datetime64('today', 'D') - np.timedelta64(1, 'D')\n",
        "print(\"Yestraday: \",yesterday)\n",
        "today     = np.datetime64('today', 'D')\n",
        "print(\"Today: \",today)\n",
        "tomorrow  = np.datetime64('today', 'D') + np.timedelta64(1, 'D')\n",
        "print(\"Tomorrow: \",tomorrow)"
      ]
    },
    {
      "cell_type": "markdown",
      "metadata": {
        "id": "i0jBLiLczDWF"
      },
      "source": [
        "#### 34. How to get all the dates corresponding to the month of July 2016? (★★☆) \n",
        "(**hint**: np.arange(dtype=datetime64\\['D'\\]))"
      ]
    },
    {
      "cell_type": "code",
      "execution_count": null,
      "metadata": {
        "id": "zBGj39aRzDWF",
        "colab": {
          "base_uri": "https://localhost:8080/"
        },
        "outputId": "a71522d4-c9b1-495c-88e0-75f8a961ca76"
      },
      "outputs": [
        {
          "output_type": "stream",
          "name": "stdout",
          "text": [
            "['2016-07-01' '2016-07-02' '2016-07-03' '2016-07-04' '2016-07-05'\n",
            " '2016-07-06' '2016-07-07' '2016-07-08' '2016-07-09' '2016-07-10'\n",
            " '2016-07-11' '2016-07-12' '2016-07-13' '2016-07-14' '2016-07-15'\n",
            " '2016-07-16' '2016-07-17' '2016-07-18' '2016-07-19' '2016-07-20'\n",
            " '2016-07-21' '2016-07-22' '2016-07-23' '2016-07-24' '2016-07-25'\n",
            " '2016-07-26' '2016-07-27' '2016-07-28' '2016-07-29' '2016-07-30'\n",
            " '2016-07-31']\n"
          ]
        }
      ],
      "source": [
        "print(np.arange('2016-07', '2016-08', dtype='datetime64[D]'))"
      ]
    },
    {
      "cell_type": "markdown",
      "metadata": {
        "id": "p_PIer2qzDWF"
      },
      "source": [
        "#### 35. How to compute ((A+B)\\*(-A/2)) in place (without copy)? (★★☆) \n",
        "(**hint**: np.add(out=), np.negative(out=), np.multiply(out=), np.divide(out=))"
      ]
    },
    {
      "cell_type": "code",
      "execution_count": null,
      "metadata": {
        "id": "IXpIlBkuzDWF",
        "colab": {
          "base_uri": "https://localhost:8080/"
        },
        "outputId": "07686bd2-ae25-4cc8-b6ef-439bdf5bbaf1"
      },
      "outputs": [
        {
          "output_type": "execute_result",
          "data": {
            "text/plain": [
              "array([-1.5, -1.5, -1.5])"
            ]
          },
          "metadata": {},
          "execution_count": 9
        }
      ],
      "source": [
        "A = np.ones(3) * 1\n",
        "B = np.ones(3) * 2\n",
        "np.add(A, B, out=B)\n",
        "np.divide(A, 2, out=A)\n",
        "np.negative(A, out=A)\n",
        "np.multiply(A, B, out=A)"
      ]
    },
    {
      "cell_type": "markdown",
      "metadata": {
        "id": "GTWycxWkzDWF"
      },
      "source": [
        "#### 36. Extract the integer part of a random array using 5 different methods (★★☆) \n",
        "(**hint**: %, np.floor, np.ceil, astype, np.trunc)"
      ]
    },
    {
      "cell_type": "code",
      "execution_count": null,
      "metadata": {
        "id": "Y9CO4fXgzDWG",
        "colab": {
          "base_uri": "https://localhost:8080/"
        },
        "outputId": "aed1dad5-d260-4434-f46f-1df04804b36c"
      },
      "outputs": [
        {
          "output_type": "execute_result",
          "data": {
            "text/plain": [
              "array([ 7.43734459,  8.1140047 ,  4.94253748, -4.85417741,  4.87961812,\n",
              "       -2.14304042,  8.99645812,  9.9105219 , -4.1784043 ,  4.58448194])"
            ]
          },
          "metadata": {},
          "execution_count": 11
        }
      ],
      "source": [
        "x = np.random.uniform(-10, +10, 10)\n",
        "x"
      ]
    },
    {
      "cell_type": "code",
      "source": [
        "np.floor(x)"
      ],
      "metadata": {
        "colab": {
          "base_uri": "https://localhost:8080/"
        },
        "id": "KEaVTNLIOh0Q",
        "outputId": "742126b0-2f10-43c9-87e5-bfc7c03c1054"
      },
      "execution_count": null,
      "outputs": [
        {
          "output_type": "execute_result",
          "data": {
            "text/plain": [
              "array([ 7.,  8.,  4., -5.,  4., -3.,  8.,  9., -5.,  4.])"
            ]
          },
          "metadata": {},
          "execution_count": 12
        }
      ]
    },
    {
      "cell_type": "code",
      "source": [
        "np.ceil(x)"
      ],
      "metadata": {
        "colab": {
          "base_uri": "https://localhost:8080/"
        },
        "id": "uqJ2fdUQOhwi",
        "outputId": "791ebc67-6088-4063-a39b-9cc7c7694e0c"
      },
      "execution_count": null,
      "outputs": [
        {
          "output_type": "execute_result",
          "data": {
            "text/plain": [
              "array([ 8.,  9.,  5., -4.,  5., -2.,  9., 10., -4.,  5.])"
            ]
          },
          "metadata": {},
          "execution_count": 13
        }
      ]
    },
    {
      "cell_type": "code",
      "source": [
        "x.astype(np.int32)"
      ],
      "metadata": {
        "colab": {
          "base_uri": "https://localhost:8080/"
        },
        "id": "kj3Hv7gZOhtH",
        "outputId": "1cf4d053-d8e7-4fad-e913-23e73eb9a89f"
      },
      "execution_count": null,
      "outputs": [
        {
          "output_type": "execute_result",
          "data": {
            "text/plain": [
              "array([ 7,  8,  4, -4,  4, -2,  8,  9, -4,  4], dtype=int32)"
            ]
          },
          "metadata": {},
          "execution_count": 15
        }
      ]
    },
    {
      "cell_type": "code",
      "source": [
        "np.trunc(x)"
      ],
      "metadata": {
        "colab": {
          "base_uri": "https://localhost:8080/"
        },
        "id": "dbBXCz1uPHES",
        "outputId": "807b69d9-0915-4ae4-9f98-dc11136a88ab"
      },
      "execution_count": null,
      "outputs": [
        {
          "output_type": "execute_result",
          "data": {
            "text/plain": [
              "array([ 7.,  8.,  4., -4.,  4., -2.,  8.,  9., -4.,  4.])"
            ]
          },
          "metadata": {},
          "execution_count": 16
        }
      ]
    },
    {
      "cell_type": "code",
      "source": [
        "x-x%1"
      ],
      "metadata": {
        "colab": {
          "base_uri": "https://localhost:8080/"
        },
        "id": "8yFJqKL6QT-I",
        "outputId": "96c93027-6cab-4a3e-f068-1bb151792983"
      },
      "execution_count": null,
      "outputs": [
        {
          "output_type": "execute_result",
          "data": {
            "text/plain": [
              "array([ 7.,  8.,  4., -5.,  4., -3.,  8.,  9., -5.,  4.])"
            ]
          },
          "metadata": {},
          "execution_count": 20
        }
      ]
    },
    {
      "cell_type": "markdown",
      "metadata": {
        "id": "8t7pS00jzDWG"
      },
      "source": [
        "#### 37. Create a 5x5 matrix with row values ranging from 0 to 4 (★★☆) \n",
        "(**hint**: np.arange)"
      ]
    },
    {
      "cell_type": "code",
      "execution_count": null,
      "metadata": {
        "id": "Q8ORxpnfzDWG",
        "colab": {
          "base_uri": "https://localhost:8080/"
        },
        "outputId": "f54cfbce-3d5e-4cfb-c740-3aa6f9d06b08"
      },
      "outputs": [
        {
          "output_type": "execute_result",
          "data": {
            "text/plain": [
              "array([[3, 1, 1, 1, 0],\n",
              "       [2, 0, 3, 0, 2],\n",
              "       [3, 1, 0, 3, 0],\n",
              "       [0, 0, 3, 0, 0],\n",
              "       [1, 3, 3, 0, 0]])"
            ]
          },
          "metadata": {},
          "execution_count": 23
        }
      ],
      "source": [
        "d=np.random.randint(0,4,25)\n",
        "np.reshape(d,(5,5))"
      ]
    },
    {
      "cell_type": "markdown",
      "metadata": {
        "id": "EqYhbdkqzDWG"
      },
      "source": [
        "#### 38. Consider a generator function that generates 10 integers and use it to build an array (★☆☆) \n",
        "(**hint**: np.fromiter)"
      ]
    },
    {
      "cell_type": "code",
      "execution_count": null,
      "metadata": {
        "id": "bwIExb6JzDWG",
        "colab": {
          "base_uri": "https://localhost:8080/"
        },
        "outputId": "668d830d-f783-4284-cdda-bf3685117f5d"
      },
      "outputs": [
        {
          "output_type": "execute_result",
          "data": {
            "text/plain": [
              "array([0., 1., 2., 3., 4., 5., 6., 7., 8., 9.], dtype=float32)"
            ]
          },
          "metadata": {},
          "execution_count": 24
        }
      ],
      "source": [
        "def generate_integers():\n",
        "    for i in range(10):\n",
        "        yield i\n",
        "np.fromiter(generate_integers(), dtype=np.float32, count=-1)"
      ]
    },
    {
      "cell_type": "markdown",
      "metadata": {
        "id": "flSjnSI_zDWG"
      },
      "source": [
        "#### 39. Create a vector of size 10 with values ranging from 0 to 1, both excluded (★★☆) \n",
        "(**hint**: np.linspace)"
      ]
    },
    {
      "cell_type": "code",
      "execution_count": null,
      "metadata": {
        "id": "L2sjHOYOzDWH",
        "colab": {
          "base_uri": "https://localhost:8080/"
        },
        "outputId": "f3cbb780-a0b4-436b-a42f-9af7e9fb3a8a"
      },
      "outputs": [
        {
          "output_type": "execute_result",
          "data": {
            "text/plain": [
              "array([0.09090909, 0.18181818, 0.27272727, 0.36363636, 0.45454545,\n",
              "       0.54545455, 0.63636364, 0.72727273, 0.81818182, 0.90909091])"
            ]
          },
          "metadata": {},
          "execution_count": 29
        }
      ],
      "source": [
        "np.linspace(0,1,11,endpoint=False)[1:]"
      ]
    },
    {
      "cell_type": "markdown",
      "metadata": {
        "id": "gBym3fYLzDWH"
      },
      "source": [
        "#### 40. Create a random vector of size 10 and sort it (★★☆) \n",
        "(**hint**: sort)"
      ]
    },
    {
      "cell_type": "code",
      "execution_count": null,
      "metadata": {
        "id": "Eq9P1zYtzDWH",
        "colab": {
          "base_uri": "https://localhost:8080/"
        },
        "outputId": "7e5ac2f1-d668-4f73-fa18-c7c0064f4e23"
      },
      "outputs": [
        {
          "output_type": "execute_result",
          "data": {
            "text/plain": [
              "array([0.04750968, 0.15318959, 0.25718017, 0.39112212, 0.39254998,\n",
              "       0.43355183, 0.490481  , 0.63775483, 0.64735677, 0.76178963])"
            ]
          },
          "metadata": {},
          "execution_count": 32
        }
      ],
      "source": [
        "zz=np.random.random((10))\n",
        "zz.sort()\n",
        "zz"
      ]
    },
    {
      "cell_type": "markdown",
      "metadata": {
        "id": "5nsbF907zDWI"
      },
      "source": [
        "#### 41. How to sum a small array faster than np.sum? (★★☆) \n",
        "(**hint**: np.add.reduce)"
      ]
    },
    {
      "cell_type": "code",
      "execution_count": null,
      "metadata": {
        "id": "sODIQ_p5zDWI",
        "colab": {
          "base_uri": "https://localhost:8080/"
        },
        "outputId": "dda2c42f-db1a-43fa-a8d3-ad7e98715ccb"
      },
      "outputs": [
        {
          "output_type": "execute_result",
          "data": {
            "text/plain": [
              "10.0"
            ]
          },
          "metadata": {},
          "execution_count": 4
        }
      ],
      "source": [
        "s=np.ones((10))\n",
        "np.add.reduce(s)"
      ]
    },
    {
      "cell_type": "markdown",
      "metadata": {
        "id": "Hrk9mRJgzDWI"
      },
      "source": [
        "#### 42. Consider two random array A and B, check if they are equal (★★☆) \n",
        "(**hint**: np.allclose, np.array\\_equal)"
      ]
    },
    {
      "cell_type": "code",
      "execution_count": null,
      "metadata": {
        "id": "pdnz9fS6zDWJ"
      },
      "outputs": [],
      "source": [
        "A = np.arange(10)\n",
        "B = np.arange(10)\n",
        "t=np.arange(11)"
      ]
    },
    {
      "cell_type": "code",
      "source": [
        "np.array_equal(A,B)"
      ],
      "metadata": {
        "colab": {
          "base_uri": "https://localhost:8080/"
        },
        "id": "GJqSmyv7cw6p",
        "outputId": "273bf9de-f2aa-4d77-e341-f5957202c3cd"
      },
      "execution_count": null,
      "outputs": [
        {
          "output_type": "execute_result",
          "data": {
            "text/plain": [
              "True"
            ]
          },
          "metadata": {},
          "execution_count": 11
        }
      ]
    },
    {
      "cell_type": "code",
      "source": [
        "np.array_equal(A,t)"
      ],
      "metadata": {
        "colab": {
          "base_uri": "https://localhost:8080/"
        },
        "id": "4ppSM0tDdbbe",
        "outputId": "304117b9-4c06-4399-ad79-143f29bf31f9"
      },
      "execution_count": null,
      "outputs": [
        {
          "output_type": "execute_result",
          "data": {
            "text/plain": [
              "False"
            ]
          },
          "metadata": {},
          "execution_count": 12
        }
      ]
    },
    {
      "cell_type": "code",
      "source": [
        "np.allclose(A,B)"
      ],
      "metadata": {
        "colab": {
          "base_uri": "https://localhost:8080/"
        },
        "id": "xMKMJpjQdx6G",
        "outputId": "258efc4b-8f94-422e-fae3-8441f207b849"
      },
      "execution_count": null,
      "outputs": [
        {
          "output_type": "execute_result",
          "data": {
            "text/plain": [
              "True"
            ]
          },
          "metadata": {},
          "execution_count": 13
        }
      ]
    },
    {
      "cell_type": "markdown",
      "metadata": {
        "id": "V1V6yxnJzDWJ"
      },
      "source": [
        "#### 43. Make an array immutable (read-only) (★★☆) \n",
        "(**hint**: flags.writeable)"
      ]
    },
    {
      "cell_type": "code",
      "execution_count": null,
      "metadata": {
        "id": "iBb_D3vnzDWK"
      },
      "outputs": [],
      "source": [
        "x = np.zeros(10)\n",
        "x.flags.writeable = False"
      ]
    },
    {
      "cell_type": "code",
      "source": [
        "x[0] = 1"
      ],
      "metadata": {
        "colab": {
          "base_uri": "https://localhost:8080/",
          "height": 172
        },
        "id": "lPumpKj9eVnX",
        "outputId": "4196900d-8458-41bb-c25f-d26364c134c8"
      },
      "execution_count": null,
      "outputs": [
        {
          "output_type": "error",
          "ename": "ValueError",
          "evalue": "ignored",
          "traceback": [
            "\u001b[0;31m---------------------------------------------------------------------------\u001b[0m",
            "\u001b[0;31mValueError\u001b[0m                                Traceback (most recent call last)",
            "\u001b[0;32m<ipython-input-15-04a2900a8706>\u001b[0m in \u001b[0;36m<module>\u001b[0;34m()\u001b[0m\n\u001b[0;32m----> 1\u001b[0;31m \u001b[0mx\u001b[0m\u001b[0;34m[\u001b[0m\u001b[0;36m0\u001b[0m\u001b[0;34m]\u001b[0m \u001b[0;34m=\u001b[0m \u001b[0;36m1\u001b[0m\u001b[0;34m\u001b[0m\u001b[0;34m\u001b[0m\u001b[0m\n\u001b[0m",
            "\u001b[0;31mValueError\u001b[0m: assignment destination is read-only"
          ]
        }
      ]
    },
    {
      "cell_type": "markdown",
      "metadata": {
        "id": "K9IiHwLTzDWK"
      },
      "source": [
        "#### 44. Consider a random 10x2 matrix representing cartesian coordinates, convert them to polar coordinates (★★☆) \n",
        "(**hint**: np.sqrt, np.arctan2)"
      ]
    },
    {
      "cell_type": "code",
      "execution_count": null,
      "metadata": {
        "id": "GZqMf5MyzDWK",
        "colab": {
          "base_uri": "https://localhost:8080/"
        },
        "outputId": "398b4150-b5e3-4f70-e23f-899d7c8ead91"
      },
      "outputs": [
        {
          "output_type": "stream",
          "name": "stdout",
          "text": [
            "[0.981954   0.85477418 0.4797279  0.84031925 0.44553061 0.66216908\n",
            " 0.93078448 0.60802443 0.16970326 0.7560867 ]\n",
            "[1.51826052 0.49015571 0.28024438 1.32085642 0.81429041 0.2458518\n",
            " 0.97279455 0.52065216 0.17949689 1.55732043]\n"
          ]
        }
      ],
      "source": [
        "Z = np.random.random((10, 2))\n",
        "X, Y = Z[:, 0], Z[:, 1]\n",
        "R = np.sqrt(X ** 2 + Y ** 2)\n",
        "T = np.arctan2(Y, X)\n",
        "print(R)\n",
        "print(T)"
      ]
    },
    {
      "cell_type": "markdown",
      "metadata": {
        "id": "u_tdm6m1zDWK"
      },
      "source": [
        "#### 45. Create random vector of size 10 and replace the maximum value by 0 (★★☆) \n",
        "(**hint**: argmax)"
      ]
    },
    {
      "cell_type": "code",
      "execution_count": null,
      "metadata": {
        "id": "S2RPzYiVzDWL",
        "colab": {
          "base_uri": "https://localhost:8080/"
        },
        "outputId": "2e8481c0-300a-4177-d4db-859805faa235"
      },
      "outputs": [
        {
          "output_type": "execute_result",
          "data": {
            "text/plain": [
              "array([0.20240162, 0.5270372 , 0.86674429, 0.14325332, 0.98517974,\n",
              "       0.24531518, 0.01670789, 0.96893547, 0.07489035, 0.07616014])"
            ]
          },
          "metadata": {},
          "execution_count": 17
        }
      ],
      "source": [
        "x = np.random.random(10)\n",
        "x"
      ]
    },
    {
      "cell_type": "code",
      "source": [
        "x.max()"
      ],
      "metadata": {
        "colab": {
          "base_uri": "https://localhost:8080/"
        },
        "id": "mJi8nPE3gZbQ",
        "outputId": "8ee40398-8414-4379-8bec-b8d7978b0be9"
      },
      "execution_count": null,
      "outputs": [
        {
          "output_type": "execute_result",
          "data": {
            "text/plain": [
              "0.9851797372352571"
            ]
          },
          "metadata": {},
          "execution_count": 19
        }
      ]
    },
    {
      "cell_type": "code",
      "source": [
        "x.argmax() #index of max value"
      ],
      "metadata": {
        "colab": {
          "base_uri": "https://localhost:8080/"
        },
        "id": "4aWYD2uFgRt1",
        "outputId": "8802d89f-79c1-4a79-fe03-1a07daefafd1"
      },
      "execution_count": null,
      "outputs": [
        {
          "output_type": "execute_result",
          "data": {
            "text/plain": [
              "4"
            ]
          },
          "metadata": {},
          "execution_count": 20
        }
      ]
    },
    {
      "cell_type": "code",
      "source": [
        "x[x.argmax()] = 0\n",
        "x"
      ],
      "metadata": {
        "colab": {
          "base_uri": "https://localhost:8080/"
        },
        "id": "qMPCeBEUgJ56",
        "outputId": "8a11f02f-25de-49eb-838e-43805ee2ddb3"
      },
      "execution_count": null,
      "outputs": [
        {
          "output_type": "execute_result",
          "data": {
            "text/plain": [
              "array([0.20240162, 0.5270372 , 0.86674429, 0.14325332, 0.        ,\n",
              "       0.24531518, 0.01670789, 0.        , 0.07489035, 0.07616014])"
            ]
          },
          "metadata": {},
          "execution_count": 22
        }
      ]
    },
    {
      "cell_type": "markdown",
      "metadata": {
        "id": "NKBJH2MMzDWL"
      },
      "source": [
        "#### 46. Create a structured array with `x` and `y` coordinates covering the \\[0,1\\]x\\[0,1\\] area (★★☆) \n",
        "(**hint**: np.meshgrid)"
      ]
    },
    {
      "cell_type": "code",
      "execution_count": null,
      "metadata": {
        "id": "ZNfBMlu7zDWL",
        "colab": {
          "base_uri": "https://localhost:8080/"
        },
        "outputId": "7d6677d4-6b35-493f-ec40-d0d9eedf6167"
      },
      "outputs": [
        {
          "output_type": "execute_result",
          "data": {
            "text/plain": [
              "[('x', 'float'), ('y', 'float')]"
            ]
          },
          "metadata": {},
          "execution_count": 10
        }
      ],
      "source": [
        "z=[('x', 'float'), ('y', 'float')]\n",
        "z"
      ]
    },
    {
      "cell_type": "code",
      "source": [
        "t=np.zeros((5, 5),dtype=z)\n",
        "t"
      ],
      "metadata": {
        "colab": {
          "base_uri": "https://localhost:8080/"
        },
        "id": "M1Ir0XUo9wEn",
        "outputId": "1f815fcb-ee64-4355-eef4-ca970b3d5026"
      },
      "execution_count": null,
      "outputs": [
        {
          "output_type": "execute_result",
          "data": {
            "text/plain": [
              "array([[(0., 0.), (0., 0.), (0., 0.), (0., 0.), (0., 0.)],\n",
              "       [(0., 0.), (0., 0.), (0., 0.), (0., 0.), (0., 0.)],\n",
              "       [(0., 0.), (0., 0.), (0., 0.), (0., 0.), (0., 0.)],\n",
              "       [(0., 0.), (0., 0.), (0., 0.), (0., 0.), (0., 0.)],\n",
              "       [(0., 0.), (0., 0.), (0., 0.), (0., 0.), (0., 0.)]],\n",
              "      dtype=[('x', '<f8'), ('y', '<f8')])"
            ]
          },
          "metadata": {},
          "execution_count": 11
        }
      ]
    },
    {
      "cell_type": "code",
      "source": [
        "t['x'], t['y'] = np.meshgrid(np.linspace(0, 1, 5), np.linspace(0, 1, 5))\n",
        "t"
      ],
      "metadata": {
        "colab": {
          "base_uri": "https://localhost:8080/"
        },
        "id": "6sxq8JXk-Xl2",
        "outputId": "0cbf1594-3bfd-43ad-8716-e5bffc9b5243"
      },
      "execution_count": null,
      "outputs": [
        {
          "output_type": "execute_result",
          "data": {
            "text/plain": [
              "array([[(0.  , 0.  ), (0.25, 0.  ), (0.5 , 0.  ), (0.75, 0.  ),\n",
              "        (1.  , 0.  )],\n",
              "       [(0.  , 0.25), (0.25, 0.25), (0.5 , 0.25), (0.75, 0.25),\n",
              "        (1.  , 0.25)],\n",
              "       [(0.  , 0.5 ), (0.25, 0.5 ), (0.5 , 0.5 ), (0.75, 0.5 ),\n",
              "        (1.  , 0.5 )],\n",
              "       [(0.  , 0.75), (0.25, 0.75), (0.5 , 0.75), (0.75, 0.75),\n",
              "        (1.  , 0.75)],\n",
              "       [(0.  , 1.  ), (0.25, 1.  ), (0.5 , 1.  ), (0.75, 1.  ),\n",
              "        (1.  , 1.  )]], dtype=[('x', '<f8'), ('y', '<f8')])"
            ]
          },
          "metadata": {},
          "execution_count": 14
        }
      ]
    },
    {
      "cell_type": "markdown",
      "metadata": {
        "id": "_a_3crilzDWN"
      },
      "source": [
        "####  47. Given two arrays, X and Y, construct the Cauchy matrix C (Cij =1/(xi - yj)) \n",
        "(**hint**: np.subtract.outer)"
      ]
    },
    {
      "cell_type": "code",
      "execution_count": null,
      "metadata": {
        "id": "TbS57SdJzDWN",
        "colab": {
          "base_uri": "https://localhost:8080/"
        },
        "outputId": "d461f063-d33c-4e5c-d5af-5e8368877f27"
      },
      "outputs": [
        {
          "output_type": "execute_result",
          "data": {
            "text/plain": [
              "array([[-1.36099635e+03, -8.11628616e+02, -3.75486283e+04,\n",
              "        -6.37824152e+03, -2.39437124e+05],\n",
              "       [ 8.26570261e+04, -1.24979035e+05,  2.98132353e+06,\n",
              "        -5.02335577e+05, -1.06044849e+07],\n",
              "       [-1.74403299e+06,  1.99578957e+09, -4.29522813e+05,\n",
              "         4.03680946e+07,  2.01743381e+06],\n",
              "       [ 8.38464101e+06,  1.02222600e+05, -1.98594460e+07,\n",
              "        -9.20008736e+06, -1.28120202e+03],\n",
              "       [-3.80167032e+03,  2.55840979e+05, -2.53067193e+02,\n",
              "         2.99882348e+06, -2.93443609e+04]])"
            ]
          },
          "metadata": {},
          "execution_count": 15
        }
      ],
      "source": [
        "x = np.random.random((5, 5))\n",
        "y = np.random.random((5, 5))\n",
        "c = 1 / np.subtract.outer(x, y)\n",
        "np.linalg.det(c)"
      ]
    },
    {
      "cell_type": "markdown",
      "metadata": {
        "id": "zr6PIzpEzDWO"
      },
      "source": [
        "#### 48. Print the minimum and maximum representable value for each numpy scalar type (★★☆) \n",
        "(**hint**: np.iinfo, np.finfo, eps)"
      ]
    },
    {
      "cell_type": "code",
      "execution_count": null,
      "metadata": {
        "id": "smAfX74qzDWO",
        "colab": {
          "base_uri": "https://localhost:8080/"
        },
        "outputId": "8eaa3e00-bde1-4203-ef08-9d526d6172bf"
      },
      "outputs": [
        {
          "output_type": "stream",
          "name": "stdout",
          "text": [
            "int\n",
            "-128 127\n",
            "-2147483648 2147483647\n",
            "-9223372036854775808 9223372036854775807\n",
            "float\n",
            "-3.4028235e+38 3.4028235e+38 1.1920929e-07\n",
            "-1.7976931348623157e+308 1.7976931348623157e+308 2.220446049250313e-16\n"
          ]
        }
      ],
      "source": [
        "print(\"int\")\n",
        "for dtype in [np.int8, np.int32, np.int64]:\n",
        "   print(np.iinfo(dtype).min,end=\" \")\n",
        "   print(np.iinfo(dtype).max)\n",
        "print(\"float\")   \n",
        "for dtype in [np.float32, np.float64]:\n",
        "   print(np.finfo(dtype).min,end=\" \")\n",
        "   print(np.finfo(dtype).max,end=\" \")\n",
        "   print(np.finfo(dtype).eps)"
      ]
    },
    {
      "cell_type": "markdown",
      "metadata": {
        "id": "4VHsx8TnzDWO"
      },
      "source": [
        "#### 49. How to print all the values of an array? (★★☆) \n",
        "(**hint**: np.set\\_printoptions)"
      ]
    },
    {
      "cell_type": "code",
      "execution_count": null,
      "metadata": {
        "id": "YuhpOIZKzDWO",
        "colab": {
          "base_uri": "https://localhost:8080/"
        },
        "outputId": "dbd0f885-aed3-468e-a24f-43d4a95f4a82"
      },
      "outputs": [
        {
          "output_type": "stream",
          "name": "stdout",
          "text": [
            "[[0. 0. 0. 0.]\n",
            " [0. 0. 0. 0.]\n",
            " [0. 0. 0. 0.]\n",
            " [0. 0. 0. 0.]]\n"
          ]
        }
      ],
      "source": [
        "import numpy as np\n",
        "np.set_printoptions(threshold=None)\n",
        "x = np.zeros((4, 4))\n",
        "print(x)"
      ]
    },
    {
      "cell_type": "markdown",
      "metadata": {
        "id": "F1xCq-I7zDWO"
      },
      "source": [
        "#### 50. How to find the closest value (to a given scalar) in a vector? (★★☆) \n",
        "(**hint**: argmin)"
      ]
    },
    {
      "cell_type": "code",
      "execution_count": null,
      "metadata": {
        "id": "J8fgzDNvzDWO",
        "colab": {
          "base_uri": "https://localhost:8080/"
        },
        "outputId": "d3e236ae-33c0-4b58-b8b6-fc12525cd35b"
      },
      "outputs": [
        {
          "output_type": "execute_result",
          "data": {
            "text/plain": [
              "array([ 0,  1,  2,  3,  4,  5,  6,  7,  8,  9, 10, 11, 12, 13, 14, 15, 16,\n",
              "       17, 18, 19, 20, 21, 22, 23, 24, 25, 26, 27, 28, 29, 30, 31, 32, 33,\n",
              "       34, 35, 36, 37, 38, 39, 40, 41, 42, 43, 44, 45, 46, 47, 48, 49, 50,\n",
              "       51, 52, 53, 54, 55, 56, 57, 58, 59, 60, 61, 62, 63, 64, 65, 66, 67,\n",
              "       68, 69, 70, 71, 72, 73, 74, 75, 76, 77, 78, 79, 80, 81, 82, 83, 84,\n",
              "       85, 86, 87, 88, 89, 90, 91, 92, 93, 94, 95, 96, 97, 98, 99])"
            ]
          },
          "metadata": {},
          "execution_count": 30
        }
      ],
      "source": [
        "Z = np.arange(100)\n",
        "Z"
      ]
    },
    {
      "cell_type": "code",
      "source": [
        "v = np.random.uniform(0,100) #gives any random value between 0 and 100\n",
        "v"
      ],
      "metadata": {
        "colab": {
          "base_uri": "https://localhost:8080/"
        },
        "id": "_TIX0L0tJ-xD",
        "outputId": "ac471796-fa48-492d-b5aa-ab1677a6c756"
      },
      "execution_count": null,
      "outputs": [
        {
          "output_type": "execute_result",
          "data": {
            "text/plain": [
              "19.851515934799213"
            ]
          },
          "metadata": {},
          "execution_count": 36
        }
      ]
    },
    {
      "cell_type": "code",
      "source": [
        "u=np.abs(Z-v)"
      ],
      "metadata": {
        "colab": {
          "base_uri": "https://localhost:8080/"
        },
        "id": "eoA0OSDTLypW",
        "outputId": "f2358ed2-2d14-44b4-ae59-6eac31e21443"
      },
      "execution_count": null,
      "outputs": [
        {
          "output_type": "execute_result",
          "data": {
            "text/plain": [
              "array([19.85151593, 18.85151593, 17.85151593, 16.85151593, 15.85151593,\n",
              "       14.85151593, 13.85151593, 12.85151593, 11.85151593, 10.85151593,\n",
              "        9.85151593,  8.85151593,  7.85151593,  6.85151593,  5.85151593,\n",
              "        4.85151593,  3.85151593,  2.85151593,  1.85151593,  0.85151593,\n",
              "        0.14848407,  1.14848407,  2.14848407,  3.14848407,  4.14848407,\n",
              "        5.14848407,  6.14848407,  7.14848407,  8.14848407,  9.14848407,\n",
              "       10.14848407, 11.14848407, 12.14848407, 13.14848407, 14.14848407,\n",
              "       15.14848407, 16.14848407, 17.14848407, 18.14848407, 19.14848407,\n",
              "       20.14848407, 21.14848407, 22.14848407, 23.14848407, 24.14848407,\n",
              "       25.14848407, 26.14848407, 27.14848407, 28.14848407, 29.14848407,\n",
              "       30.14848407, 31.14848407, 32.14848407, 33.14848407, 34.14848407,\n",
              "       35.14848407, 36.14848407, 37.14848407, 38.14848407, 39.14848407,\n",
              "       40.14848407, 41.14848407, 42.14848407, 43.14848407, 44.14848407,\n",
              "       45.14848407, 46.14848407, 47.14848407, 48.14848407, 49.14848407,\n",
              "       50.14848407, 51.14848407, 52.14848407, 53.14848407, 54.14848407,\n",
              "       55.14848407, 56.14848407, 57.14848407, 58.14848407, 59.14848407,\n",
              "       60.14848407, 61.14848407, 62.14848407, 63.14848407, 64.14848407,\n",
              "       65.14848407, 66.14848407, 67.14848407, 68.14848407, 69.14848407,\n",
              "       70.14848407, 71.14848407, 72.14848407, 73.14848407, 74.14848407,\n",
              "       75.14848407, 76.14848407, 77.14848407, 78.14848407, 79.14848407])"
            ]
          },
          "metadata": {},
          "execution_count": 46
        }
      ]
    },
    {
      "cell_type": "code",
      "source": [
        "index = (u.argmin())\n",
        "print(f\"closest value is: {Z[index]}\",\n",
        "      \"index is\",index)"
      ],
      "metadata": {
        "colab": {
          "base_uri": "https://localhost:8080/"
        },
        "id": "CUd4zqNbJ-uY",
        "outputId": "71c5d4a4-5970-4be6-8e8d-bea2625c4aab"
      },
      "execution_count": null,
      "outputs": [
        {
          "output_type": "stream",
          "name": "stdout",
          "text": [
            "closest value is: 20 index is 20\n"
          ]
        }
      ]
    },
    {
      "cell_type": "markdown",
      "metadata": {
        "id": "q4rFJMbezDWP"
      },
      "source": [
        "#### 51. Create a structured array representing a position (x,y) and a color (r,g,b) (★★☆) \n",
        "(**hint**: dtype)"
      ]
    },
    {
      "cell_type": "code",
      "execution_count": null,
      "metadata": {
        "id": "wPg-UMyAzDWP",
        "colab": {
          "base_uri": "https://localhost:8080/"
        },
        "outputId": "39f1ed53-90c5-4626-8a12-0c5457f4a6a7"
      },
      "outputs": [
        {
          "output_type": "stream",
          "name": "stdout",
          "text": [
            "[[((1., 1.), (1., 1., 1.)) ((1., 1.), (1., 1., 1.))\n",
            "  ((1., 1.), (1., 1., 1.))]\n",
            " [((1., 1.), (1., 1., 1.)) ((1., 1.), (1., 1., 1.))\n",
            "  ((1., 1.), (1., 1., 1.))]\n",
            " [((1., 1.), (1., 1., 1.)) ((1., 1.), (1., 1., 1.))\n",
            "  ((1., 1.), (1., 1., 1.))]]\n"
          ]
        },
        {
          "output_type": "stream",
          "name": "stderr",
          "text": [
            "/usr/local/lib/python3.7/dist-packages/numpy/core/numeric.py:204: FutureWarning: Passing (type, 1) or '1type' as a synonym of type is deprecated; in a future version of numpy, it will be understood as (type, (1,)) / '(1,)type'.\n",
            "  a = empty(shape, dtype, order)\n"
          ]
        }
      ],
      "source": [
        "a = np.ones((3,3), [ ('position', [ ('x', float, 1),('y', float, 1)]),                                  \n",
        "                   ('color',    [ ('r', float, 1),('g', float, 1),('b', float, 1)])])                                                                   \n",
        "print(a)"
      ]
    },
    {
      "cell_type": "code",
      "source": [
        "#for self\n",
        "allpxvalues=a['position']['x']\n",
        "allpyvalues=a['position']['y']\n",
        "allcrvalues=a['color']['r']\n",
        "allcgvalues=a['color']['g']\n",
        "allcbvalues=a['color']['b']"
      ],
      "metadata": {
        "id": "4zJlEexqQyqH"
      },
      "execution_count": null,
      "outputs": []
    },
    {
      "cell_type": "code",
      "source": [
        "#for self\n",
        "for i in range(3):\n",
        "  for u in range(3):\n",
        "    allpxvalues[i][u]=np.random.uniform(0,100)\n",
        "    allpyvalues[i][u]=np.random.uniform(0,100)\n",
        "    allcrvalues[i][u]=np.random.uniform(0,100)\n",
        "    allcgvalues[i][u]=np.random.uniform(0,100)\n",
        "    allcbvalues[i][u]=np.random.uniform(0,100)\n",
        "\n",
        "print(a)"
      ],
      "metadata": {
        "colab": {
          "base_uri": "https://localhost:8080/"
        },
        "id": "zdROdRiMP29p",
        "outputId": "cf4f0271-cc64-4194-d3e6-e219bccb601a"
      },
      "execution_count": null,
      "outputs": [
        {
          "output_type": "stream",
          "name": "stdout",
          "text": [
            "[[(( 1.32612831, 18.17895897), (39.41604898, 44.3751119 , 37.06281553))\n",
            "  ((56.5103933 , 23.2315107 ), (51.61649941, 91.21589522, 52.05894352))\n",
            "  ((91.53651288, 15.92330179), (39.30796367, 91.760177  , 97.55813575))]\n",
            " [((23.64450363, 25.05444997), (16.77481733, 75.75919958, 13.38989714))\n",
            "  ((78.78163014, 78.53671928), (98.70953766,  6.26545229,  0.90873929))\n",
            "  (( 0.79521401, 28.89905256), (32.98637119, 71.99945124,  6.48837848))]\n",
            " [((42.0516124 , 72.95672979), (24.58094369, 92.62951713, 84.89053126))\n",
            "  ((85.74950731,  3.33144779), (94.06146747, 67.70757085,  0.55108127))\n",
            "  ((78.7038431 , 49.0908092 ), (35.41016346, 93.74811565, 46.40924316))]]\n"
          ]
        }
      ]
    },
    {
      "cell_type": "markdown",
      "metadata": {
        "id": "TDKFOLixzDWP"
      },
      "source": [
        "#### 52. Consider a random vector with shape (100,2) representing coordinates, find point by point distances (★★☆) \n",
        "(**hint**: np.atleast\\_2d, T, np.sqrt)"
      ]
    },
    {
      "cell_type": "code",
      "execution_count": null,
      "metadata": {
        "id": "R_5vKWhMzDWP",
        "colab": {
          "base_uri": "https://localhost:8080/"
        },
        "outputId": "2d531ac0-51ad-4616-d4a3-2ad963d1fe5c"
      },
      "outputs": [
        {
          "output_type": "stream",
          "name": "stdout",
          "text": [
            "[[0.         0.12058018 0.83303265 0.75040675 0.46861424]\n",
            " [0.12058018 0.         0.71545985 0.66509289 0.34877549]\n",
            " [0.83303265 0.71545985 0.         0.41418693 0.41026603]\n",
            " [0.75040675 0.66509289 0.41418693 0.         0.55126823]\n",
            " [0.46861424 0.34877549 0.41026603 0.55126823 0.        ]]\n"
          ]
        }
      ],
      "source": [
        "Z = np.random.random((5,2))\n",
        "X,Y = np.atleast_2d(Z[:,0], Z[:,1]) #so that u can perform transpose to it\n",
        "D = np.sqrt( (X-X.T)**2 + (Y-Y.T)**2) #getting the distance of each point with other\n",
        "print(D)"
      ]
    },
    {
      "cell_type": "markdown",
      "metadata": {
        "id": "wlnwLBRrzDWQ"
      },
      "source": [
        "#### 53. How to convert a float (32 bits) array into an integer (32 bits) in place? \n",
        "(**hint**: astype(copy=False))"
      ]
    },
    {
      "cell_type": "code",
      "execution_count": null,
      "metadata": {
        "id": "SNdl5pcGzDWQ",
        "colab": {
          "base_uri": "https://localhost:8080/"
        },
        "outputId": "33b11d98-0dcf-49a3-ef8a-58e852aa8eec"
      },
      "outputs": [
        {
          "output_type": "stream",
          "name": "stdout",
          "text": [
            "[0. 1. 2. 3. 4. 5. 6. 7. 8. 9.]\n"
          ]
        }
      ],
      "source": [
        "import numpy as np\n",
        "Z = np.arange(10, dtype=np.int32)\n",
        "Z = Z.astype(np.float32, copy=False)\n",
        "print(Z)"
      ]
    },
    {
      "cell_type": "markdown",
      "metadata": {
        "id": "rXo2m7rczDWQ"
      },
      "source": [
        "#### 54. How to read the following file? (★★☆) \n",
        "(**hint**: np.genfromtxt)"
      ]
    },
    {
      "cell_type": "markdown",
      "metadata": {
        "id": "ygDA3P1xzDWR"
      },
      "source": [
        "```\n",
        "1, 2, 3, 4, 5\n",
        "6,  ,  , 7, 8\n",
        " ,  , 9,10,11\n",
        "```"
      ]
    },
    {
      "cell_type": "code",
      "execution_count": null,
      "metadata": {
        "id": "MZPDNAZXzDWR",
        "colab": {
          "base_uri": "https://localhost:8080/"
        },
        "outputId": "ddd41630-4595-4358-8aaa-0c87c395478d"
      },
      "outputs": [
        {
          "output_type": "stream",
          "name": "stdout",
          "text": [
            "[[ 1  2  3  4  5]\n",
            " [ 6 -1 -1  7  8]\n",
            " [-1 -1  9 10 11]]\n"
          ]
        },
        {
          "output_type": "stream",
          "name": "stderr",
          "text": [
            "/usr/local/lib/python3.7/dist-packages/ipykernel_launcher.py:7: DeprecationWarning: `np.int` is a deprecated alias for the builtin `int`. To silence this warning, use `int` by itself. Doing this will not modify any behavior and is safe. When replacing `np.int`, you may wish to use e.g. `np.int64` or `np.int32` to specify the precision. If you wish to review your current use, check the release note link for additional information.\n",
            "Deprecated in NumPy 1.20; for more details and guidance: https://numpy.org/devdocs/release/1.20.0-notes.html#deprecations\n",
            "  import sys\n"
          ]
        }
      ],
      "source": [
        "from io import StringIO\n",
        "\n",
        "# Fake file \n",
        "s = StringIO(\"\"\"1, 2, 3, 4, 5\\n\n",
        "                6,  ,  , 7, 8\\n\n",
        "                 ,  , 9,10,11\\n\"\"\")\n",
        "Z = np.genfromtxt(s, delimiter=\",\", dtype=np.int)\n",
        "print(Z)"
      ]
    },
    {
      "cell_type": "markdown",
      "metadata": {
        "id": "_KIZaMqMzDWR"
      },
      "source": [
        "#### 55. What is the equivalent of enumerate for numpy arrays? (★★☆) \n",
        "(**hint**: np.ndenumerate, np.ndindex)"
      ]
    },
    {
      "cell_type": "code",
      "execution_count": null,
      "metadata": {
        "id": "PSuE3RQCzDWU",
        "colab": {
          "base_uri": "https://localhost:8080/"
        },
        "outputId": "05c5827c-635f-44ef-d11c-5d982b6d3345"
      },
      "outputs": [
        {
          "output_type": "stream",
          "name": "stdout",
          "text": [
            "(0, 0) 0\n",
            "(0, 1) 1\n",
            "(1, 0) 2\n",
            "(1, 1) 3\n",
            "(0, 0) 0\n",
            "(0, 1) 1\n",
            "(1, 0) 2\n",
            "(1, 1) 3\n"
          ]
        }
      ],
      "source": [
        "Z = np.arange(4).reshape(2,2)\n",
        "for index, value in np.ndenumerate(Z):\n",
        "    print(index, value)\n",
        "for index in np.ndindex(Z.shape):\n",
        "    print(index, Z[index])"
      ]
    },
    {
      "cell_type": "markdown",
      "metadata": {
        "id": "yaDB8YE8zDWV"
      },
      "source": [
        "#### 56. Generate a generic 2D Gaussian-like array (★★☆) \n",
        "(**hint**: np.meshgrid, np.exp)"
      ]
    },
    {
      "cell_type": "code",
      "execution_count": null,
      "metadata": {
        "id": "jt5haUC5zDWV",
        "colab": {
          "base_uri": "https://localhost:8080/"
        },
        "outputId": "aed56f3e-27f3-4d2d-db10-4cf9afb24ea0"
      },
      "outputs": [
        {
          "output_type": "execute_result",
          "data": {
            "text/plain": [
              "array([1.48671951e-06, 7.85583780e-06, 3.68566387e-05, 1.53531925e-04,\n",
              "       5.67860185e-04, 1.86484996e-03, 5.43758580e-03, 1.40775832e-02,\n",
              "       3.23600986e-02, 6.60467302e-02, 1.19688537e-01, 1.92581050e-01,\n",
              "       2.75127684e-01, 3.48991450e-01, 3.93056547e-01, 3.93056547e-01,\n",
              "       3.48991450e-01, 2.75127684e-01, 1.92581050e-01, 1.19688537e-01,\n",
              "       6.60467302e-02, 3.23600986e-02, 1.40775832e-02, 5.43758580e-03,\n",
              "       1.86484996e-03, 5.67860185e-04, 1.53531925e-04, 3.68566387e-05,\n",
              "       7.85583780e-06, 1.48671951e-06])"
            ]
          },
          "metadata": {},
          "execution_count": 2
        }
      ],
      "source": [
        "import numpy as np\n",
        "import matplotlib.pyplot as plt\n",
        "\n",
        "x =np.linspace(-5, 5,30)\n",
        "sigma, mu = 1.0, 0.0\n",
        "D = 1/((np.sqrt(2*np.pi))*sigma)\n",
        "\n",
        "g=[]\n",
        "for i in np.nditer(x):\n",
        "  t=(np.exp(-(0.5*((i-mu)/(sigma))**2)))*D\n",
        "  g.append(t)\n",
        "g=np.array(g)\n",
        "g"
      ]
    },
    {
      "cell_type": "code",
      "source": [
        "plt.plot(x,g)"
      ],
      "metadata": {
        "colab": {
          "base_uri": "https://localhost:8080/",
          "height": 282
        },
        "id": "I36tOWX6vIen",
        "outputId": "03aeede5-f4c9-4fba-f653-14406b602d3f"
      },
      "execution_count": null,
      "outputs": [
        {
          "output_type": "execute_result",
          "data": {
            "text/plain": [
              "[<matplotlib.lines.Line2D at 0x7f4f234e87d0>]"
            ]
          },
          "metadata": {},
          "execution_count": 3
        },
        {
          "output_type": "display_data",
          "data": {
            "text/plain": [
              "<Figure size 432x288 with 1 Axes>"
            ],
            "image/png": "[encoded data removed]"
          },
          "metadata": {
            "needs_background": "light"
          }
        }
      ]
    },
    {
      "cell_type": "markdown",
      "metadata": {
        "id": "xphGQ8d3zDWV"
      },
      "source": [
        "#### 57. How to randomly place p elements in a 2D array? (★★☆) \n",
        "(**hint**: np.put, np.random.choice)"
      ]
    },
    {
      "cell_type": "code",
      "execution_count": null,
      "metadata": {
        "id": "-oaxAd1YzDWW",
        "colab": {
          "base_uri": "https://localhost:8080/"
        },
        "outputId": "ce759da5-88b8-4db4-cd18-b483e9f7e18e"
      },
      "outputs": [
        {
          "output_type": "execute_result",
          "data": {
            "text/plain": [
              "array([-44,   1, -55,   3,   4])"
            ]
          },
          "metadata": {},
          "execution_count": 4
        }
      ],
      "source": [
        "a = np.arange(5)\n",
        "np.put(a, [0, 2], [-44, -55])\n",
        "a"
      ]
    },
    {
      "cell_type": "code",
      "source": [
        "n = 5 #matrix size\n",
        "p = 3 #replace how many values\n",
        "Z = np.zeros((n,n))\n",
        "np.put(Z, np.random.choice(range(n*n), p, replace=False),5)\n",
        "print(Z)"
      ],
      "metadata": {
        "colab": {
          "base_uri": "https://localhost:8080/"
        },
        "id": "ythECRdmwEVS",
        "outputId": "55459804-8b89-4b8d-c9b0-8b0aa944acc9"
      },
      "execution_count": null,
      "outputs": [
        {
          "output_type": "stream",
          "name": "stdout",
          "text": [
            "[[0. 0. 5. 0. 0.]\n",
            " [0. 0. 0. 0. 0.]\n",
            " [0. 0. 0. 0. 0.]\n",
            " [0. 5. 0. 0. 5.]\n",
            " [0. 0. 0. 0. 0.]]\n"
          ]
        }
      ]
    },
    {
      "cell_type": "markdown",
      "metadata": {
        "id": "7I-kqAWwzDWW"
      },
      "source": [
        "#### 58. Subtract the mean of each row of a matrix (★★☆) \n",
        "(**hint**: mean(axis=,keepdims=))"
      ]
    },
    {
      "cell_type": "code",
      "execution_count": null,
      "metadata": {
        "id": "2PdVOCDzzDWX",
        "colab": {
          "base_uri": "https://localhost:8080/"
        },
        "outputId": "d9c2e3cc-136a-4e78-e4ec-c99b691c30d1"
      },
      "outputs": [
        {
          "output_type": "execute_result",
          "data": {
            "text/plain": [
              "array([[-0.24941632,  0.44354259, -0.03000472,  0.29255968,  0.45531454,\n",
              "        -0.43814721, -0.03358539,  0.04447013, -0.43971073, -0.04502256],\n",
              "       [ 0.00251732,  0.10879902, -0.39559277, -0.02895695,  0.18684497,\n",
              "         0.06615181,  0.03848345,  0.12474195,  0.11473679, -0.21772559],\n",
              "       [ 0.19446788, -0.32001799, -0.0190523 ,  0.43253341,  0.05430208,\n",
              "        -0.32144518, -0.15126432,  0.14327643, -0.03046137,  0.01766137],\n",
              "       [-0.3292164 ,  0.17130642, -0.05825321, -0.07620023,  0.30008668,\n",
              "         0.33450908, -0.15222019, -0.32010922, -0.36335037,  0.49344744],\n",
              "       [ 0.0394916 , -0.35621435,  0.01230858, -0.36120998, -0.21220924,\n",
              "        -0.18003941,  0.28992802,  0.15470678,  0.32039501,  0.29284299]])"
            ]
          },
          "metadata": {},
          "execution_count": 8
        }
      ],
      "source": [
        "X = np.random.rand(5, 10)\n",
        "Y = X - X.mean(axis=1, keepdims=True)\n",
        "Y"
      ]
    },
    {
      "cell_type": "markdown",
      "metadata": {
        "id": "Pp6aSQKOzDWX"
      },
      "source": [
        "#### 59. How to sort an array by the nth column? (★★☆) \n",
        "(**hint**: argsort)"
      ]
    },
    {
      "cell_type": "code",
      "execution_count": null,
      "metadata": {
        "id": "JqWI32uGzDWX",
        "colab": {
          "base_uri": "https://localhost:8080/"
        },
        "outputId": "f3550aeb-1f98-4c93-a4d3-980f187cdc67"
      },
      "outputs": [
        {
          "output_type": "stream",
          "name": "stdout",
          "text": [
            "[[2 2 9]\n",
            " [8 8 8]\n",
            " [8 2 6]]\n",
            "[[2 2 9]\n",
            " [8 2 6]\n",
            " [8 8 8]]\n"
          ]
        }
      ],
      "source": [
        "Z = np.random.randint(0,10,(3,3))\n",
        "print(Z)\n",
        "print(Z[Z[:,1].argsort()])"
      ]
    },
    {
      "cell_type": "markdown",
      "metadata": {
        "id": "bucq9s5KzDWY"
      },
      "source": [
        "#### 60. How to tell if a given 2D array has null columns? (★★☆) \n",
        "(**hint**: any, ~)"
      ]
    },
    {
      "cell_type": "code",
      "execution_count": null,
      "metadata": {
        "id": "Y2mMMoIFzDWY",
        "colab": {
          "base_uri": "https://localhost:8080/"
        },
        "outputId": "3769bcfa-94be-4a86-e814-0bf05be285b6"
      },
      "outputs": [
        {
          "output_type": "execute_result",
          "data": {
            "text/plain": [
              "array([[0, 2, 2, 2, 0, 0, 0, 2, 1, 1],\n",
              "       [1, 0, 0, 2, 2, 2, 2, 2, 0, 2],\n",
              "       [0, 2, 0, 1, 0, 2, 1, 1, 2, 0]])"
            ]
          },
          "metadata": {},
          "execution_count": 20
        }
      ],
      "source": [
        "Z1 = np.random.randint(0,3,(3,10))\n",
        "Z1"
      ]
    },
    {
      "cell_type": "code",
      "source": [
        "Z=np.zeros((3,10))\n",
        "Z"
      ],
      "metadata": {
        "colab": {
          "base_uri": "https://localhost:8080/"
        },
        "id": "ejbwvSmoywnI",
        "outputId": "b39b17f1-edad-4315-a908-7540458520de"
      },
      "execution_count": null,
      "outputs": [
        {
          "output_type": "execute_result",
          "data": {
            "text/plain": [
              "array([[0., 0., 0., 0., 0., 0., 0., 0., 0., 0.],\n",
              "       [0., 0., 0., 0., 0., 0., 0., 0., 0., 0.],\n",
              "       [0., 0., 0., 0., 0., 0., 0., 0., 0., 0.]])"
            ]
          },
          "metadata": {},
          "execution_count": 16
        }
      ]
    },
    {
      "cell_type": "code",
      "source": [
        "Z.any(axis=0)"
      ],
      "metadata": {
        "colab": {
          "base_uri": "https://localhost:8080/"
        },
        "id": "Ag4z_AowynC_",
        "outputId": "179490cb-fbb5-4088-e96c-ea63567c81ea"
      },
      "execution_count": null,
      "outputs": [
        {
          "output_type": "execute_result",
          "data": {
            "text/plain": [
              "array([False, False, False, False, False, False, False, False, False,\n",
              "       False])"
            ]
          },
          "metadata": {},
          "execution_count": 17
        }
      ]
    },
    {
      "cell_type": "code",
      "source": [
        "print((~Z.any(axis=0)).any())"
      ],
      "metadata": {
        "colab": {
          "base_uri": "https://localhost:8080/"
        },
        "id": "h5uHfNBOybpA",
        "outputId": "d246e3b6-98c8-4b10-8027-f83df6302a9d"
      },
      "execution_count": null,
      "outputs": [
        {
          "output_type": "stream",
          "name": "stdout",
          "text": [
            "True\n"
          ]
        }
      ]
    },
    {
      "cell_type": "code",
      "source": [
        "print((~Z1.any(axis=0)).any())"
      ],
      "metadata": {
        "colab": {
          "base_uri": "https://localhost:8080/"
        },
        "id": "Iv2nSYnxzKwm",
        "outputId": "824f8514-4c35-4207-c517-d6c8434ef14a"
      },
      "execution_count": null,
      "outputs": [
        {
          "output_type": "stream",
          "name": "stdout",
          "text": [
            "False\n"
          ]
        }
      ]
    },
    {
      "cell_type": "markdown",
      "metadata": {
        "id": "oeb_rd3dzDWY"
      },
      "source": [
        "#### 61. Find the nearest value from a given value in an array (★★☆) \n",
        "(**hint**: np.abs, argmin, flat)"
      ]
    },
    {
      "cell_type": "code",
      "execution_count": null,
      "metadata": {
        "id": "MlRoXscczDWZ"
      },
      "outputs": [],
      "source": [
        "same as question 50 "
      ]
    },
    {
      "cell_type": "markdown",
      "metadata": {
        "id": "mQj7ol_vzDWZ"
      },
      "source": [
        "#### 62. Considering two arrays with shape (1,3) and (3,1), how to compute their sum using an iterator? (★★☆) \n",
        "(**hint**: np.nditer)"
      ]
    },
    {
      "cell_type": "code",
      "execution_count": null,
      "metadata": {
        "id": "L-trP3_nzDWZ",
        "colab": {
          "base_uri": "https://localhost:8080/"
        },
        "outputId": "2863b968-68fd-4006-a841-c373d1b1c915"
      },
      "outputs": [
        {
          "output_type": "stream",
          "name": "stdout",
          "text": [
            "[[0 1 2]\n",
            " [1 2 3]\n",
            " [2 3 4]]\n"
          ]
        }
      ],
      "source": [
        "A = np.arange(3).reshape(3,1)\n",
        "B = np.arange(3).reshape(1,3)\n",
        "it = np.nditer([A,B,None])\n",
        "for x,y,z in it: z[...] = x + y\n",
        "print(it.operands[2])"
      ]
    },
    {
      "cell_type": "markdown",
      "metadata": {
        "id": "n4EeXkdgzDWZ"
      },
      "source": [
        "#### 63. Create an array class that has a name attribute (★★☆) \n",
        "(**hint**: class method)"
      ]
    },
    {
      "cell_type": "code",
      "execution_count": null,
      "metadata": {
        "id": "RA_PC8LczDWa",
        "colab": {
          "base_uri": "https://localhost:8080/"
        },
        "outputId": "9bb366ef-1f08-486c-dcb9-6fd1a295accf"
      },
      "outputs": [
        {
          "output_type": "stream",
          "name": "stdout",
          "text": [
            "range_10\n"
          ]
        }
      ],
      "source": [
        "class NamedArray(np.ndarray):\n",
        "    def __new__(cls, array, name=\"no name\"):\n",
        "        obj = np.asarray(array).view(cls)\n",
        "        obj.name = name\n",
        "        return obj\n",
        "    def __array_finalize__(self, obj):\n",
        "        if obj is None: return\n",
        "        self.info = getattr(obj, 'name', \"no name\")\n",
        "\n",
        "Z = NamedArray(np.arange(10), \"range_10\")\n",
        "print (Z.name)"
      ]
    },
    {
      "cell_type": "markdown",
      "metadata": {
        "id": "W7-JWzeszDWa"
      },
      "source": [
        "#### 64. Consider a given vector, how to add 1 to each element indexed by a second vector (be careful with repeated indices)? (★★★) \n",
        "(**hint**: np.bincount | np.add.at)"
      ]
    },
    {
      "cell_type": "code",
      "execution_count": 1,
      "metadata": {
        "id": "7ltk1kCQzDWa",
        "colab": {
          "base_uri": "https://localhost:8080/"
        },
        "outputId": "1ad4d53e-34e8-4bf2-80c5-cf7ae9a38282"
      },
      "outputs": [
        {
          "output_type": "stream",
          "name": "stdout",
          "text": [
            "[2. 2. 7. 2. 3. 2. 2. 6. 2. 2.]\n"
          ]
        }
      ],
      "source": [
        "import numpy as np\n",
        "import pandas as pd\n",
        "Z = np.ones(10)\n",
        "I = np.random.randint(0,len(Z),20)\n",
        "Z += np.bincount(I, minlength=len(Z))\n",
        "print(Z)"
      ]
    },
    {
      "cell_type": "markdown",
      "metadata": {
        "id": "gGNKoRAhzDWa"
      },
      "source": [
        "#### 65. How to accumulate elements of a vector (X) to an array (F) based on an index list (I)? (★★★) \n",
        "(**hint**: np.bincount)"
      ]
    },
    {
      "cell_type": "code",
      "execution_count": 2,
      "metadata": {
        "id": "LDk0pxKtzDWa",
        "colab": {
          "base_uri": "https://localhost:8080/"
        },
        "outputId": "3a089a14-c174-4c08-9fd9-3808c5661bc9"
      },
      "outputs": [
        {
          "output_type": "stream",
          "name": "stdout",
          "text": [
            "[0. 7. 0. 6. 5. 0. 0. 0. 0. 3.]\n"
          ]
        }
      ],
      "source": [
        "X = [1,2,3,4,5,6]\n",
        "I = [1,3,9,3,4,1]\n",
        "F = np.bincount(I,X)\n",
        "print(F)"
      ]
    },
    {
      "cell_type": "markdown",
      "metadata": {
        "id": "OWeFy_cFzDWb"
      },
      "source": [
        "#### 66. Considering a (w,h,3) image of (dtype=ubyte), compute the number of unique colors (★★★) \n",
        "(**hint**: np.unique)"
      ]
    },
    {
      "cell_type": "code",
      "execution_count": 3,
      "metadata": {
        "id": "pSz3jAK6zDWb",
        "colab": {
          "base_uri": "https://localhost:8080/"
        },
        "outputId": "b0eec846-cd26-44f1-e0c4-8cc8d739d8f5"
      },
      "outputs": [
        {
          "output_type": "stream",
          "name": "stdout",
          "text": [
            "[0 1]\n"
          ]
        }
      ],
      "source": [
        "w,h = 16,16\n",
        "I = np.random.randint(0,2,(h,w,3)).astype(np.ubyte)\n",
        "F = I[...,0]*256*256 + I[...,1]*256 +I[...,2]\n",
        "n = len(np.unique(F))\n",
        "print(np.unique(I))"
      ]
    },
    {
      "cell_type": "markdown",
      "metadata": {
        "id": "1xK2Lnq2zDWb"
      },
      "source": [
        "#### 67. Considering a four dimensions array, how to get sum over the last two axis at once? (★★★) \n",
        "(**hint**: sum(axis=(-2,-1)))"
      ]
    },
    {
      "cell_type": "code",
      "execution_count": 4,
      "metadata": {
        "id": "JE7_7ttmzDWc",
        "colab": {
          "base_uri": "https://localhost:8080/"
        },
        "outputId": "9e9f5056-f29d-4a33-d829-0ccce0c036e8"
      },
      "outputs": [
        {
          "output_type": "stream",
          "name": "stdout",
          "text": [
            "[[71 62 41 61]\n",
            " [71 62 38 61]\n",
            " [47 45 46 47]]\n",
            "[[71 62 41 61]\n",
            " [71 62 38 61]\n",
            " [47 45 46 47]]\n"
          ]
        }
      ],
      "source": [
        "A = np.random.randint(0,10,(3,4,3,4))\n",
        "# solution by passing a tuple of axes (introduced in numpy 1.7.0)\n",
        "sum = A.sum(axis=(-2,-1))\n",
        "print(sum)\n",
        "# solution by flattening the last two dimensions into one\n",
        "# (useful for functions that don't accept tuples for axis argument)\n",
        "sum = A.reshape(A.shape[:-2] + (-1,)).sum(axis=-1)\n",
        "print(sum)"
      ]
    },
    {
      "cell_type": "markdown",
      "metadata": {
        "id": "k5rfgVgZzDWc"
      },
      "source": [
        "#### 68. Considering a one-dimensional vector D, how to compute means of subsets of D using a vector S of same size describing subset  indices? (★★★) \n",
        "(**hint**: np.bincount)"
      ]
    },
    {
      "cell_type": "code",
      "execution_count": 5,
      "metadata": {
        "id": "4q79M5QEzDWe",
        "colab": {
          "base_uri": "https://localhost:8080/"
        },
        "outputId": "9e855fe7-4bf0-4a42-a654-4c87378fd20d"
      },
      "outputs": [
        {
          "output_type": "stream",
          "name": "stdout",
          "text": [
            "[0.37088254 0.53379212 0.48107466 0.37060485 0.28373363 0.44372302\n",
            " 0.49933966 0.51791988 0.54725068 0.50342541]\n",
            "0    0.370883\n",
            "1    0.533792\n",
            "2    0.481075\n",
            "3    0.370605\n",
            "4    0.283734\n",
            "5    0.443723\n",
            "6    0.499340\n",
            "7    0.517920\n",
            "8    0.547251\n",
            "9    0.503425\n",
            "dtype: float64\n"
          ]
        }
      ],
      "source": [
        "D = np.random.uniform(0,1,100)\n",
        "S = np.random.randint(0,10,100)\n",
        "D_sums = np.bincount(S, weights=D)\n",
        "D_counts = np.bincount(S)\n",
        "D_means = D_sums / D_counts\n",
        "print(D_means)\n",
        "\n",
        "# Pandas solution as a reference due to more intuitive code\n",
        "import pandas as pd\n",
        "print(pd.Series(D).groupby(S).mean())"
      ]
    },
    {
      "cell_type": "markdown",
      "metadata": {
        "id": "w4ulqVh5zDWe"
      },
      "source": [
        "#### 69. How to get the diagonal of a dot product? (★★★) \n",
        "(**hint**: np.diag)"
      ]
    },
    {
      "cell_type": "code",
      "execution_count": 6,
      "metadata": {
        "id": "JncphQDAzDWf",
        "colab": {
          "base_uri": "https://localhost:8080/"
        },
        "outputId": "854d396e-0649-4037-f97a-aad0ef11508e"
      },
      "outputs": [
        {
          "output_type": "execute_result",
          "data": {
            "text/plain": [
              "array([2.33869936, 0.94301701, 1.08543366, 0.63578529, 0.98725845])"
            ]
          },
          "metadata": {},
          "execution_count": 6
        }
      ],
      "source": [
        "A = np.random.uniform(0,1,(5,5))\n",
        "B = np.random.uniform(0,1,(5,5))\n",
        "\n",
        "# Slow version  \n",
        "np.diag(np.dot(A, B))\n",
        "\n",
        "# Fast version\n",
        "np.sum(A * B.T, axis=1)\n",
        "\n",
        "# Faster version\n",
        "np.einsum(\"ij,ji->i\", A, B)"
      ]
    },
    {
      "cell_type": "markdown",
      "metadata": {
        "id": "hUDfU691zDWf"
      },
      "source": [
        "#### 70. Consider the vector \\[1, 2, 3, 4, 5\\], how to build a new vector with 3 consecutive zeros interleaved between each value? (★★★) \n",
        "(**hint**: array\\[::4\\])"
      ]
    },
    {
      "cell_type": "code",
      "execution_count": 7,
      "metadata": {
        "id": "AibltKGXzDWf",
        "colab": {
          "base_uri": "https://localhost:8080/"
        },
        "outputId": "1664b9b8-540f-42fa-82ca-13c6ba79fbac"
      },
      "outputs": [
        {
          "output_type": "stream",
          "name": "stdout",
          "text": [
            "[1. 0. 0. 0. 2. 0. 0. 0. 3. 0. 0. 0. 4. 0. 0. 0. 5.]\n"
          ]
        }
      ],
      "source": [
        "Z = np.array([1,2,3,4,5])\n",
        "nz = 3\n",
        "Z0 = np.zeros(len(Z) + (len(Z)-1)*(nz))\n",
        "Z0[::nz+1] = Z\n",
        "print(Z0)"
      ]
    },
    {
      "cell_type": "markdown",
      "metadata": {
        "id": "7yDZZCWizDWf"
      },
      "source": [
        "#### 71. Consider an array of dimension (5,5,3), how to mulitply it by an array with dimensions (5,5)? (★★★) \n",
        "(**hint**: array\\[:, :, None\\])"
      ]
    },
    {
      "cell_type": "code",
      "execution_count": 8,
      "metadata": {
        "collapsed": true,
        "id": "DJ1anrszzDWg",
        "colab": {
          "base_uri": "https://localhost:8080/"
        },
        "outputId": "73c7802f-20b2-4afe-a39b-523d4e6c48db"
      },
      "outputs": [
        {
          "output_type": "stream",
          "name": "stdout",
          "text": [
            "[[[2. 2. 2.]\n",
            "  [2. 2. 2.]\n",
            "  [2. 2. 2.]\n",
            "  [2. 2. 2.]\n",
            "  [2. 2. 2.]]\n",
            "\n",
            " [[2. 2. 2.]\n",
            "  [2. 2. 2.]\n",
            "  [2. 2. 2.]\n",
            "  [2. 2. 2.]\n",
            "  [2. 2. 2.]]\n",
            "\n",
            " [[2. 2. 2.]\n",
            "  [2. 2. 2.]\n",
            "  [2. 2. 2.]\n",
            "  [2. 2. 2.]\n",
            "  [2. 2. 2.]]\n",
            "\n",
            " [[2. 2. 2.]\n",
            "  [2. 2. 2.]\n",
            "  [2. 2. 2.]\n",
            "  [2. 2. 2.]\n",
            "  [2. 2. 2.]]\n",
            "\n",
            " [[2. 2. 2.]\n",
            "  [2. 2. 2.]\n",
            "  [2. 2. 2.]\n",
            "  [2. 2. 2.]\n",
            "  [2. 2. 2.]]]\n"
          ]
        }
      ],
      "source": [
        "A = np.ones((5,5,3))\n",
        "B = 2*np.ones((5,5))\n",
        "print(A * B[:,:,None])"
      ]
    },
    {
      "cell_type": "markdown",
      "metadata": {
        "id": "tXcyVlZszDWg"
      },
      "source": [
        "#### 72. How to swap two rows of an array? (★★★) \n",
        "(**hint**: array\\[\\[\\]\\] = array\\[\\[\\]\\])"
      ]
    },
    {
      "cell_type": "code",
      "execution_count": 9,
      "metadata": {
        "id": "CHLObaZhzDWg",
        "colab": {
          "base_uri": "https://localhost:8080/"
        },
        "outputId": "71441268-671c-4a92-9178-54f94e59980b"
      },
      "outputs": [
        {
          "output_type": "stream",
          "name": "stdout",
          "text": [
            "[[ 5  6  7  8  9]\n",
            " [ 0  1  2  3  4]\n",
            " [10 11 12 13 14]\n",
            " [15 16 17 18 19]\n",
            " [20 21 22 23 24]]\n"
          ]
        }
      ],
      "source": [
        "A = np.arange(25).reshape(5,5)\n",
        "A[[0,1]] = A[[1,0]]\n",
        "print(A)"
      ]
    },
    {
      "cell_type": "markdown",
      "metadata": {
        "id": "t4DBDEcVzDWh"
      },
      "source": [
        "#### 73. Consider a set of 10 triplets describing 10 triangles (with shared vertices), find the set of unique line segments composing all the  triangles (★★★) \n",
        "(**hint**: repeat, np.roll, np.sort, view, np.unique)"
      ]
    },
    {
      "cell_type": "code",
      "execution_count": 10,
      "metadata": {
        "id": "7q4voQfbzDWh",
        "colab": {
          "base_uri": "https://localhost:8080/"
        },
        "outputId": "fe714689-76f1-4c85-8061-a2ff63badfd2"
      },
      "outputs": [
        {
          "output_type": "stream",
          "name": "stdout",
          "text": [
            "[( 7,  9) ( 7, 57) ( 9, 57) (11, 63) (11, 93) (13, 43) (13, 93) (14, 24)\n",
            " (14, 84) (18, 39) (18, 54) (24, 84) (29, 71) (29, 73) (31, 41) (31, 61)\n",
            " (35, 45) (35, 96) (39, 54) (41, 45) (41, 61) (41, 67) (43, 93) (45, 67)\n",
            " (45, 96) (49, 77) (49, 82) (63, 93) (71, 73) (77, 82)]\n"
          ]
        }
      ],
      "source": [
        "faces = np.random.randint(0,100,(10,3))\n",
        "F = np.roll(faces.repeat(2,axis=1),-1,axis=1)\n",
        "F = F.reshape(len(F)*3,2)\n",
        "F = np.sort(F,axis=1)\n",
        "G = F.view( dtype=[('p0',F.dtype),('p1',F.dtype)] )\n",
        "G = np.unique(G)\n",
        "print(G)"
      ]
    },
    {
      "cell_type": "markdown",
      "metadata": {
        "id": "zQ0oSEq9zDWi"
      },
      "source": [
        "#### 74. Given an array C that is a bincount, how to produce an array A such that np.bincount(A) == C? (★★★) \n",
        "(**hint**: np.repeat)"
      ]
    },
    {
      "cell_type": "code",
      "execution_count": 11,
      "metadata": {
        "id": "j_h6A_c0zDWj",
        "colab": {
          "base_uri": "https://localhost:8080/"
        },
        "outputId": "60487f92-a9a2-44b2-8df2-44265302c643"
      },
      "outputs": [
        {
          "output_type": "stream",
          "name": "stdout",
          "text": [
            "[1 1 2 3 4 4 6]\n"
          ]
        }
      ],
      "source": [
        "C = np.bincount([1,1,2,3,4,4,6])\n",
        "A = np.repeat(np.arange(len(C)), C)\n",
        "print(A)"
      ]
    },
    {
      "cell_type": "markdown",
      "metadata": {
        "id": "ge49E1mdzDWj"
      },
      "source": [
        "#### 75. How to compute averages using a sliding window over an array? (★★★) \n",
        "(**hint**: np.cumsum)"
      ]
    },
    {
      "cell_type": "code",
      "execution_count": 12,
      "metadata": {
        "id": "uguM7XJxzDWj",
        "colab": {
          "base_uri": "https://localhost:8080/"
        },
        "outputId": "90e078f1-dc96-4623-b0b1-074f507fb3fc"
      },
      "outputs": [
        {
          "output_type": "stream",
          "name": "stdout",
          "text": [
            "[ 1.  2.  3.  4.  5.  6.  7.  8.  9. 10. 11. 12. 13. 14. 15. 16. 17. 18.]\n"
          ]
        }
      ],
      "source": [
        "def moving_average(a, n=3) :\n",
        "    ret = np.cumsum(a, dtype=float)\n",
        "    ret[n:] = ret[n:] - ret[:-n]\n",
        "    return ret[n - 1:] / n\n",
        "Z = np.arange(20)\n",
        "print(moving_average(Z, n=3))"
      ]
    },
    {
      "cell_type": "markdown",
      "metadata": {
        "id": "tWSzcG7izDWk"
      },
      "source": [
        "#### 76. Consider a one-dimensional array Z, build a two-dimensional array whose first row is (Z\\[0\\],Z\\[1\\],Z\\[2\\]) and each subsequent row is  shifted by 1 (last row should be (Z\\[-3\\],Z\\[-2\\],Z\\[-1\\]) (★★★) \n",
        "(**hint**: from numpy.lib import stride_tricks)"
      ]
    },
    {
      "cell_type": "code",
      "execution_count": 13,
      "metadata": {
        "id": "aihn_Y84zDWk",
        "colab": {
          "base_uri": "https://localhost:8080/"
        },
        "outputId": "0115408a-f4af-432e-c866-9d1df05d23f5"
      },
      "outputs": [
        {
          "output_type": "stream",
          "name": "stdout",
          "text": [
            "[[0 1 2]\n",
            " [1 2 3]\n",
            " [2 3 4]\n",
            " [3 4 5]\n",
            " [4 5 6]\n",
            " [5 6 7]\n",
            " [6 7 8]\n",
            " [7 8 9]]\n"
          ]
        }
      ],
      "source": [
        "from numpy.lib import stride_tricks\n",
        "\n",
        "def rolling(a, window):\n",
        "    shape = (a.size - window + 1, window)\n",
        "    strides = (a.itemsize, a.itemsize)\n",
        "    return stride_tricks.as_strided(a, shape=shape, strides=strides)\n",
        "Z = rolling(np.arange(10), 3)\n",
        "print(Z)"
      ]
    },
    {
      "cell_type": "markdown",
      "metadata": {
        "id": "Zd3un-AJzDWk"
      },
      "source": [
        "#### 77. How to negate a boolean, or to change the sign of a float inplace? (★★★) \n",
        "(**hint**: np.logical_not, np.negative)"
      ]
    },
    {
      "cell_type": "code",
      "execution_count": 14,
      "metadata": {
        "id": "LcYTa4d6zDWl",
        "colab": {
          "base_uri": "https://localhost:8080/"
        },
        "outputId": "5a6d63c9-5024-45db-d61b-817aa224f974"
      },
      "outputs": [
        {
          "output_type": "execute_result",
          "data": {
            "text/plain": [
              "array([ 0.6924599 , -0.56645572,  0.17489508,  0.86344   ,  0.09440435,\n",
              "        0.44032243, -0.28317047,  0.84301152,  0.96557818,  0.78391639,\n",
              "       -0.44221816, -0.37624704, -0.6968467 , -0.14097959, -0.76308506,\n",
              "       -0.39398937, -0.96767224, -0.52322155,  0.72530344,  0.41845245,\n",
              "        0.20318898,  0.45388351,  0.3384645 ,  0.98122197, -0.77273252,\n",
              "       -0.74614837,  0.88533447,  0.1660258 ,  0.01452031, -0.27727861,\n",
              "        0.43790216, -0.00232687,  0.5727475 ,  0.08271501,  0.51917242,\n",
              "        0.82923482,  0.91980438, -0.68665638, -0.66535024,  0.00863948,\n",
              "        0.20590677, -0.4311555 , -0.83679905, -0.40565717,  0.47989529,\n",
              "       -0.14113852,  0.64110261, -0.33602874, -0.8243072 , -0.46292281,\n",
              "        0.58252127, -0.21367142, -0.60878018,  0.1088036 , -0.03516063,\n",
              "        0.76100074,  0.73041457,  0.87979589,  0.42349108, -0.34568878,\n",
              "        0.83630655, -0.49276068, -0.48907033,  0.35649375,  0.00908339,\n",
              "        0.7340216 ,  0.99117173, -0.28559276,  0.6869246 , -0.07948592,\n",
              "        0.76155037, -0.6971911 , -0.31827327, -0.51440739, -0.42420144,\n",
              "       -0.4475213 , -0.31625697, -0.96712076,  0.11938639,  0.25925277,\n",
              "       -0.45408382,  0.49192785,  0.47288571,  0.52829023,  0.25259478,\n",
              "       -0.97098829,  0.11759444, -0.72890259, -0.80462991,  0.43965887,\n",
              "       -0.38465282,  0.14802228,  0.29356033,  0.02863188, -0.00173947,\n",
              "        0.77821345, -0.87922423,  0.07818669,  0.51693919,  0.19540966])"
            ]
          },
          "metadata": {},
          "execution_count": 14
        }
      ],
      "source": [
        "Z = np.random.randint(0,2,100)\n",
        "np.logical_not(Z, out=Z)\n",
        "\n",
        "Z = np.random.uniform(-1.0,1.0,100)\n",
        "np.negative(Z, out=Z)"
      ]
    },
    {
      "cell_type": "markdown",
      "metadata": {
        "id": "0bggI4LQzDWl"
      },
      "source": [
        "#### 78. Consider 2 sets of points P0,P1 describing lines (2d) and a point p, how to compute distance from p to each line i  (P0\\[i\\],P1\\[i\\])? (★★★)"
      ]
    },
    {
      "cell_type": "code",
      "execution_count": 15,
      "metadata": {
        "id": "YEWbOk8jzDWm",
        "colab": {
          "base_uri": "https://localhost:8080/"
        },
        "outputId": "db23b9a7-90e6-4de1-e496-a75bf4eaa5d5"
      },
      "outputs": [
        {
          "output_type": "stream",
          "name": "stdout",
          "text": [
            "[ 8.42997189  2.77144768  1.67346423  7.48806266  2.12019697  0.87790719\n",
            "  5.51679666  6.62456224 11.24159469  8.63039831]\n"
          ]
        }
      ],
      "source": [
        "def distance(P0, P1, p):\n",
        "    T = P1 - P0\n",
        "    L = (T**2).sum(axis=1)\n",
        "    U = -((P0[:,0]-p[...,0])*T[:,0] + (P0[:,1]-p[...,1])*T[:,1]) / L\n",
        "    U = U.reshape(len(U),1)\n",
        "    D = P0 + U*T - p\n",
        "    return np.sqrt((D**2).sum(axis=1))\n",
        "\n",
        "P0 = np.random.uniform(-10,10,(10,2))\n",
        "P1 = np.random.uniform(-10,10,(10,2))\n",
        "p  = np.random.uniform(-10,10,( 1,2))\n",
        "print(distance(P0, P1, p))"
      ]
    },
    {
      "cell_type": "markdown",
      "metadata": {
        "id": "19uESDX9zDWn"
      },
      "source": [
        "#### 79. Consider 2 sets of points P0,P1 describing lines (2d) and a set of points P, how to compute distance from each point j (P\\[j\\]) to each line i (P0\\[i\\],P1\\[i\\])? (★★★)"
      ]
    },
    {
      "cell_type": "code",
      "execution_count": 16,
      "metadata": {
        "id": "Fly43hv-zDWn",
        "colab": {
          "base_uri": "https://localhost:8080/"
        },
        "outputId": "fdd2617e-384b-40fa-f601-5b3ae5b058b4"
      },
      "outputs": [
        {
          "output_type": "stream",
          "name": "stdout",
          "text": [
            "[[ 0.9505393   7.9936495   7.7732954  10.61169644  3.53564598  3.11444763\n",
            "  12.33434575  9.7285129  12.96414942  3.0579526 ]\n",
            " [11.30573488  0.52283285 13.47877916  1.48905189 11.3086886   5.22145065\n",
            "   7.58290403  0.77053106  7.96968857  8.94015399]\n",
            " [10.88067702  0.79381994 11.56368232  1.40160304  9.46382174  3.40922843\n",
            "   6.51467836  0.2557232   6.94168101  7.02644668]\n",
            " [ 6.60451667  3.57766626 11.52246739  5.80490851  8.35521734  4.91574469\n",
            "  10.21648238  3.96437127 10.70219054  6.90035323]\n",
            " [11.2683537   0.48124261 16.09458709  2.2464708  13.67376853  7.9205702\n",
            "   9.5814174   0.8641377   9.92164508 11.54176726]\n",
            " [ 7.63230005  3.46978595 14.08611803  5.44833771 10.93977988  7.17551183\n",
            "  11.2459859   2.82267949 11.67163715  9.4712729 ]\n",
            " [ 2.00715955  5.79975892  4.76682607  8.69467913  1.07127426  0.35492316\n",
            "   9.15251303  8.83622069  9.82208641  0.0879684 ]\n",
            " [ 1.92079301 10.13377918  5.59168011 12.97649794  0.83605277  1.91464165\n",
            "  13.20124166 12.66963963 13.90921823  0.83041939]\n",
            " [17.16966269 10.89263132  1.68459857  7.8058176   2.07170538  9.01124095\n",
            "   6.39967033  5.96644783  5.88017147  2.67669427]\n",
            " [ 0.54447038  6.66397112  3.04335029  9.73111997  0.85958275  1.59458184\n",
            "   9.13407518 10.36499804  9.85448427  1.65575081]]\n"
          ]
        }
      ],
      "source": [
        "# based on distance function from previous question\n",
        "P0 = np.random.uniform(-10, 10, (10,2))\n",
        "P1 = np.random.uniform(-10,10,(10,2))\n",
        "p = np.random.uniform(-10, 10, (10,2))\n",
        "print(np.array([distance(P0,P1,p_i) for p_i in p]))"
      ]
    },
    {
      "cell_type": "markdown",
      "metadata": {
        "id": "x5Mq6KJ1zDWn"
      },
      "source": [
        "#### 80. Consider an arbitrary array, write a function that extract a subpart with a fixed shape and centered on a given element (pad with a `fill` value when necessary) (★★★) \n",
        "(**hint**: minimum, maximum)"
      ]
    },
    {
      "cell_type": "code",
      "execution_count": 17,
      "metadata": {
        "id": "Ij0OQ7sFzDWo",
        "colab": {
          "base_uri": "https://localhost:8080/"
        },
        "outputId": "0f997cda-8040-4c66-817c-acab3887e0ba"
      },
      "outputs": [
        {
          "output_type": "stream",
          "name": "stdout",
          "text": [
            "[[8 0 1 9 6 1 6 4 2 6]\n",
            " [2 9 1 0 8 0 6 3 8 7]\n",
            " [9 5 0 7 4 7 2 6 2 2]\n",
            " [0 8 2 9 1 2 9 1 3 4]\n",
            " [6 8 2 2 4 3 4 1 5 6]\n",
            " [8 0 9 3 4 1 2 2 6 1]\n",
            " [6 1 9 6 9 1 6 9 1 2]\n",
            " [6 3 8 3 3 2 4 7 7 6]\n",
            " [6 8 4 6 6 9 8 6 3 8]\n",
            " [4 9 7 2 9 0 8 6 4 4]]\n",
            "[[0 0 0 0 0]\n",
            " [0 8 0 1 9]\n",
            " [0 2 9 1 0]\n",
            " [0 9 5 0 7]\n",
            " [0 0 8 2 9]]\n"
          ]
        },
        {
          "output_type": "stream",
          "name": "stderr",
          "text": [
            "/usr/local/lib/python3.7/dist-packages/ipykernel_launcher.py:23: FutureWarning: Using a non-tuple sequence for multidimensional indexing is deprecated; use `arr[tuple(seq)]` instead of `arr[seq]`. In the future this will be interpreted as an array index, `arr[np.array(seq)]`, which will result either in an error or a different result.\n"
          ]
        }
      ],
      "source": [
        "Z = np.random.randint(0,10,(10,10))\n",
        "shape = (5,5)\n",
        "fill  = 0\n",
        "position = (1,1)\n",
        "\n",
        "R = np.ones(shape, dtype=Z.dtype)*fill\n",
        "P  = np.array(list(position)).astype(int)\n",
        "Rs = np.array(list(R.shape)).astype(int)\n",
        "Zs = np.array(list(Z.shape)).astype(int)\n",
        "\n",
        "R_start = np.zeros((len(shape),)).astype(int)\n",
        "R_stop  = np.array(list(shape)).astype(int)\n",
        "Z_start = (P-Rs//2)\n",
        "Z_stop  = (P+Rs//2)+Rs%2\n",
        "\n",
        "R_start = (R_start - np.minimum(Z_start,0)).tolist()\n",
        "Z_start = (np.maximum(Z_start,0)).tolist()\n",
        "R_stop = np.maximum(R_start, (R_stop - np.maximum(Z_stop-Zs,0))).tolist()\n",
        "Z_stop = (np.minimum(Z_stop,Zs)).tolist()\n",
        "\n",
        "r = [slice(start,stop) for start,stop in zip(R_start,R_stop)]\n",
        "z = [slice(start,stop) for start,stop in zip(Z_start,Z_stop)]\n",
        "R[r] = Z[z]\n",
        "print(Z)\n",
        "print(R)"
      ]
    },
    {
      "cell_type": "markdown",
      "metadata": {
        "id": "gVhqWBj6zDWo"
      },
      "source": [
        "#### 81. Consider an array Z = \\[1,2,3,4,5,6,7,8,9,10,11,12,13,14\\], how to generate an array R = \\[\\[1,2,3,4\\], \\[2,3,4,5\\], \\[3,4,5,6\\], ..., \\[11,12,13,14\\]\\]? (★★★) \n",
        "(**hint**: stride\\_tricks.as\\_strided)"
      ]
    },
    {
      "cell_type": "code",
      "execution_count": 18,
      "metadata": {
        "id": "KXJpBVc8zDWo",
        "colab": {
          "base_uri": "https://localhost:8080/"
        },
        "outputId": "4e53d782-4896-4819-ee98-e97fb2d70b0e"
      },
      "outputs": [
        {
          "output_type": "stream",
          "name": "stdout",
          "text": [
            "[[ 1  2  3  4]\n",
            " [ 2  3  4  5]\n",
            " [ 3  4  5  6]\n",
            " [ 4  5  6  7]\n",
            " [ 5  6  7  8]\n",
            " [ 6  7  8  9]\n",
            " [ 7  8  9 10]\n",
            " [ 8  9 10 11]\n",
            " [ 9 10 11 12]\n",
            " [10 11 12 13]\n",
            " [11 12 13 14]]\n"
          ]
        }
      ],
      "source": [
        "Z = np.arange(1,15,dtype=np.uint32)\n",
        "R = stride_tricks.as_strided(Z,(11,4),(4,4))\n",
        "print(R)"
      ]
    },
    {
      "cell_type": "markdown",
      "metadata": {
        "id": "q1yP0FfLzDWo"
      },
      "source": [
        "#### 82. Compute a matrix rank (★★★) \n",
        "(**hint**: np.linalg.svd) (suggestion: np.linalg.svd)"
      ]
    },
    {
      "cell_type": "code",
      "execution_count": 19,
      "metadata": {
        "id": "TB6Hcab8zDWp",
        "colab": {
          "base_uri": "https://localhost:8080/"
        },
        "outputId": "ecba4e7f-b674-476d-e267-2166da4e7f98"
      },
      "outputs": [
        {
          "output_type": "stream",
          "name": "stdout",
          "text": [
            "10\n"
          ]
        }
      ],
      "source": [
        "Z = np.random.uniform(0,1,(10,10))\n",
        "U, S, V = np.linalg.svd(Z) # Singular Value Decomposition\n",
        "rank = np.sum(S > 1e-10)\n",
        "print(rank)"
      ]
    },
    {
      "cell_type": "markdown",
      "metadata": {
        "id": "hXavl20HzDWp"
      },
      "source": [
        "#### 83. How to find the most frequent value in an array? \n",
        "(**hint**: np.bincount, argmax)"
      ]
    },
    {
      "cell_type": "code",
      "execution_count": 20,
      "metadata": {
        "id": "Hc4v48V9zDWp",
        "colab": {
          "base_uri": "https://localhost:8080/"
        },
        "outputId": "4d3d541a-c433-4fe9-a118-0233dbf20ec7"
      },
      "outputs": [
        {
          "output_type": "stream",
          "name": "stdout",
          "text": [
            "2\n"
          ]
        }
      ],
      "source": [
        "Z = np.random.randint(0,10,50)\n",
        "print(np.bincount(Z).argmax())"
      ]
    },
    {
      "cell_type": "markdown",
      "metadata": {
        "id": "fHE8OCb5zDWp"
      },
      "source": [
        "#### 84. Extract all the contiguous 3x3 blocks from a random 10x10 matrix (★★★) \n",
        "(**hint**: stride\\_tricks.as\\_strided)"
      ]
    },
    {
      "cell_type": "code",
      "execution_count": 21,
      "metadata": {
        "id": "RM0x3SFzzDWq",
        "colab": {
          "base_uri": "https://localhost:8080/"
        },
        "outputId": "f3842135-f195-4d50-e060-8a5590cd6dbf"
      },
      "outputs": [
        {
          "output_type": "stream",
          "name": "stdout",
          "text": [
            "[[[[2 0 1]\n",
            "   [1 2 4]\n",
            "   [4 0 2]]\n",
            "\n",
            "  [[0 1 1]\n",
            "   [2 4 0]\n",
            "   [0 2 0]]\n",
            "\n",
            "  [[1 1 2]\n",
            "   [4 0 4]\n",
            "   [2 0 4]]\n",
            "\n",
            "  [[1 2 2]\n",
            "   [0 4 2]\n",
            "   [0 4 1]]\n",
            "\n",
            "  [[2 2 0]\n",
            "   [4 2 0]\n",
            "   [4 1 3]]\n",
            "\n",
            "  [[2 0 4]\n",
            "   [2 0 3]\n",
            "   [1 3 3]]\n",
            "\n",
            "  [[0 4 4]\n",
            "   [0 3 2]\n",
            "   [3 3 4]]\n",
            "\n",
            "  [[4 4 3]\n",
            "   [3 2 3]\n",
            "   [3 4 1]]]\n",
            "\n",
            "\n",
            " [[[1 2 4]\n",
            "   [4 0 2]\n",
            "   [2 1 2]]\n",
            "\n",
            "  [[2 4 0]\n",
            "   [0 2 0]\n",
            "   [1 2 0]]\n",
            "\n",
            "  [[4 0 4]\n",
            "   [2 0 4]\n",
            "   [2 0 4]]\n",
            "\n",
            "  [[0 4 2]\n",
            "   [0 4 1]\n",
            "   [0 4 3]]\n",
            "\n",
            "  [[4 2 0]\n",
            "   [4 1 3]\n",
            "   [4 3 1]]\n",
            "\n",
            "  [[2 0 3]\n",
            "   [1 3 3]\n",
            "   [3 1 4]]\n",
            "\n",
            "  [[0 3 2]\n",
            "   [3 3 4]\n",
            "   [1 4 4]]\n",
            "\n",
            "  [[3 2 3]\n",
            "   [3 4 1]\n",
            "   [4 4 2]]]\n",
            "\n",
            "\n",
            " [[[4 0 2]\n",
            "   [2 1 2]\n",
            "   [0 0 2]]\n",
            "\n",
            "  [[0 2 0]\n",
            "   [1 2 0]\n",
            "   [0 2 4]]\n",
            "\n",
            "  [[2 0 4]\n",
            "   [2 0 4]\n",
            "   [2 4 3]]\n",
            "\n",
            "  [[0 4 1]\n",
            "   [0 4 3]\n",
            "   [4 3 2]]\n",
            "\n",
            "  [[4 1 3]\n",
            "   [4 3 1]\n",
            "   [3 2 0]]\n",
            "\n",
            "  [[1 3 3]\n",
            "   [3 1 4]\n",
            "   [2 0 0]]\n",
            "\n",
            "  [[3 3 4]\n",
            "   [1 4 4]\n",
            "   [0 0 3]]\n",
            "\n",
            "  [[3 4 1]\n",
            "   [4 4 2]\n",
            "   [0 3 4]]]\n",
            "\n",
            "\n",
            " [[[2 1 2]\n",
            "   [0 0 2]\n",
            "   [1 4 0]]\n",
            "\n",
            "  [[1 2 0]\n",
            "   [0 2 4]\n",
            "   [4 0 2]]\n",
            "\n",
            "  [[2 0 4]\n",
            "   [2 4 3]\n",
            "   [0 2 4]]\n",
            "\n",
            "  [[0 4 3]\n",
            "   [4 3 2]\n",
            "   [2 4 0]]\n",
            "\n",
            "  [[4 3 1]\n",
            "   [3 2 0]\n",
            "   [4 0 3]]\n",
            "\n",
            "  [[3 1 4]\n",
            "   [2 0 0]\n",
            "   [0 3 2]]\n",
            "\n",
            "  [[1 4 4]\n",
            "   [0 0 3]\n",
            "   [3 2 0]]\n",
            "\n",
            "  [[4 4 2]\n",
            "   [0 3 4]\n",
            "   [2 0 3]]]\n",
            "\n",
            "\n",
            " [[[0 0 2]\n",
            "   [1 4 0]\n",
            "   [4 2 0]]\n",
            "\n",
            "  [[0 2 4]\n",
            "   [4 0 2]\n",
            "   [2 0 1]]\n",
            "\n",
            "  [[2 4 3]\n",
            "   [0 2 4]\n",
            "   [0 1 1]]\n",
            "\n",
            "  [[4 3 2]\n",
            "   [2 4 0]\n",
            "   [1 1 3]]\n",
            "\n",
            "  [[3 2 0]\n",
            "   [4 0 3]\n",
            "   [1 3 3]]\n",
            "\n",
            "  [[2 0 0]\n",
            "   [0 3 2]\n",
            "   [3 3 0]]\n",
            "\n",
            "  [[0 0 3]\n",
            "   [3 2 0]\n",
            "   [3 0 3]]\n",
            "\n",
            "  [[0 3 4]\n",
            "   [2 0 3]\n",
            "   [0 3 4]]]\n",
            "\n",
            "\n",
            " [[[1 4 0]\n",
            "   [4 2 0]\n",
            "   [0 4 3]]\n",
            "\n",
            "  [[4 0 2]\n",
            "   [2 0 1]\n",
            "   [4 3 1]]\n",
            "\n",
            "  [[0 2 4]\n",
            "   [0 1 1]\n",
            "   [3 1 1]]\n",
            "\n",
            "  [[2 4 0]\n",
            "   [1 1 3]\n",
            "   [1 1 3]]\n",
            "\n",
            "  [[4 0 3]\n",
            "   [1 3 3]\n",
            "   [1 3 2]]\n",
            "\n",
            "  [[0 3 2]\n",
            "   [3 3 0]\n",
            "   [3 2 1]]\n",
            "\n",
            "  [[3 2 0]\n",
            "   [3 0 3]\n",
            "   [2 1 2]]\n",
            "\n",
            "  [[2 0 3]\n",
            "   [0 3 4]\n",
            "   [1 2 0]]]\n",
            "\n",
            "\n",
            " [[[4 2 0]\n",
            "   [0 4 3]\n",
            "   [1 2 0]]\n",
            "\n",
            "  [[2 0 1]\n",
            "   [4 3 1]\n",
            "   [2 0 1]]\n",
            "\n",
            "  [[0 1 1]\n",
            "   [3 1 1]\n",
            "   [0 1 3]]\n",
            "\n",
            "  [[1 1 3]\n",
            "   [1 1 3]\n",
            "   [1 3 1]]\n",
            "\n",
            "  [[1 3 3]\n",
            "   [1 3 2]\n",
            "   [3 1 1]]\n",
            "\n",
            "  [[3 3 0]\n",
            "   [3 2 1]\n",
            "   [1 1 4]]\n",
            "\n",
            "  [[3 0 3]\n",
            "   [2 1 2]\n",
            "   [1 4 2]]\n",
            "\n",
            "  [[0 3 4]\n",
            "   [1 2 0]\n",
            "   [4 2 1]]]\n",
            "\n",
            "\n",
            " [[[0 4 3]\n",
            "   [1 2 0]\n",
            "   [0 2 0]]\n",
            "\n",
            "  [[4 3 1]\n",
            "   [2 0 1]\n",
            "   [2 0 4]]\n",
            "\n",
            "  [[3 1 1]\n",
            "   [0 1 3]\n",
            "   [0 4 2]]\n",
            "\n",
            "  [[1 1 3]\n",
            "   [1 3 1]\n",
            "   [4 2 3]]\n",
            "\n",
            "  [[1 3 2]\n",
            "   [3 1 1]\n",
            "   [2 3 2]]\n",
            "\n",
            "  [[3 2 1]\n",
            "   [1 1 4]\n",
            "   [3 2 1]]\n",
            "\n",
            "  [[2 1 2]\n",
            "   [1 4 2]\n",
            "   [2 1 0]]\n",
            "\n",
            "  [[1 2 0]\n",
            "   [4 2 1]\n",
            "   [1 0 3]]]]\n"
          ]
        }
      ],
      "source": [
        "Z = np.random.randint(0,5,(10,10))\n",
        "n = 3\n",
        "i = 1 + (Z.shape[0]-3)\n",
        "j = 1 + (Z.shape[1]-3)\n",
        "C = stride_tricks.as_strided(Z, shape=(i, j, n, n), strides=Z.strides + Z.strides)\n",
        "print(C)"
      ]
    },
    {
      "cell_type": "markdown",
      "metadata": {
        "id": "jx1KlKVkzDWq"
      },
      "source": [
        "#### 85. Create a 2D array subclass such that Z\\[i,j\\] == Z\\[j,i\\] (★★★) \n",
        "(**hint**: class method)"
      ]
    },
    {
      "cell_type": "code",
      "execution_count": 22,
      "metadata": {
        "id": "Qbu1WPl4zDWq",
        "colab": {
          "base_uri": "https://localhost:8080/"
        },
        "outputId": "79f6b48f-9559-40f0-d8a2-5a3c19e82fd9"
      },
      "outputs": [
        {
          "output_type": "stream",
          "name": "stdout",
          "text": [
            "[[ 3  6  5  4 14]\n",
            " [ 6  4 11 10 11]\n",
            " [ 5 11  1 42  4]\n",
            " [ 4 10 42  5  7]\n",
            " [14 11  4  7  5]]\n"
          ]
        }
      ],
      "source": [
        "class Symetric(np.ndarray):\n",
        "    def __setitem__(self, index, value):\n",
        "        i,j = index\n",
        "        super(Symetric, self).__setitem__((i,j), value)\n",
        "        super(Symetric, self).__setitem__((j,i), value)\n",
        "\n",
        "def symetric(Z):\n",
        "    return np.asarray(Z + Z.T - np.diag(Z.diagonal())).view(Symetric)\n",
        "\n",
        "S = symetric(np.random.randint(0,10,(5,5)))\n",
        "S[2,3] = 42\n",
        "print(S)"
      ]
    },
    {
      "cell_type": "markdown",
      "metadata": {
        "id": "ETwJn2Q9zDWr"
      },
      "source": [
        "#### 86. Consider a set of p matrices wich shape (n,n) and a set of p vectors with shape (n,1). How to compute the sum of of the p matrix products at once? (result has shape (n,1)) (★★★) \n",
        "(**hint**: np.tensordot)"
      ]
    },
    {
      "cell_type": "code",
      "execution_count": 23,
      "metadata": {
        "id": "apc7Bn49zDWr",
        "colab": {
          "base_uri": "https://localhost:8080/"
        },
        "outputId": "69e2ae1b-bc8c-4280-8e73-a97c6560aaf3"
      },
      "outputs": [
        {
          "output_type": "stream",
          "name": "stdout",
          "text": [
            "[[200.]\n",
            " [200.]\n",
            " [200.]\n",
            " [200.]\n",
            " [200.]\n",
            " [200.]\n",
            " [200.]\n",
            " [200.]\n",
            " [200.]\n",
            " [200.]\n",
            " [200.]\n",
            " [200.]\n",
            " [200.]\n",
            " [200.]\n",
            " [200.]\n",
            " [200.]\n",
            " [200.]\n",
            " [200.]\n",
            " [200.]\n",
            " [200.]]\n"
          ]
        }
      ],
      "source": [
        "p, n = 10, 20\n",
        "M = np.ones((p,n,n))\n",
        "V = np.ones((p,n,1))\n",
        "S = np.tensordot(M, V, axes=[[0, 2], [0, 1]])\n",
        "print(S)"
      ]
    },
    {
      "cell_type": "markdown",
      "metadata": {
        "id": "NR5QXZCwzDWr"
      },
      "source": [
        "#### 87. Consider a 16x16 array, how to get the block-sum (block size is 4x4)? (★★★) \n",
        "(**hint**: np.add.reduceat)"
      ]
    },
    {
      "cell_type": "code",
      "execution_count": 24,
      "metadata": {
        "id": "-ZkUhcy5zDWs",
        "colab": {
          "base_uri": "https://localhost:8080/"
        },
        "outputId": "b9f7f0c0-1b26-447b-8b06-151e44826ec6"
      },
      "outputs": [
        {
          "output_type": "stream",
          "name": "stdout",
          "text": [
            "[[16. 16. 16. 16.]\n",
            " [16. 16. 16. 16.]\n",
            " [16. 16. 16. 16.]\n",
            " [16. 16. 16. 16.]]\n"
          ]
        }
      ],
      "source": [
        "Z = np.ones((16,16))\n",
        "k = 4\n",
        "S = np.add.reduceat(np.add.reduceat(Z, np.arange(0, Z.shape[0], k), axis=0),\n",
        "                                       np.arange(0, Z.shape[1], k), axis=1)\n",
        "print(S)"
      ]
    },
    {
      "cell_type": "markdown",
      "metadata": {
        "id": "4lENz4I7zDWs"
      },
      "source": [
        "#### 88. How to implement the Game of Life using numpy arrays? (★★★)"
      ]
    },
    {
      "cell_type": "code",
      "execution_count": 25,
      "metadata": {
        "id": "JaYvSM4KzDWs",
        "colab": {
          "base_uri": "https://localhost:8080/"
        },
        "outputId": "d601c954-2103-4d89-d84b-de482f1e7bcc"
      },
      "outputs": [
        {
          "output_type": "stream",
          "name": "stdout",
          "text": [
            "[[0 0 0 ... 0 0 0]\n",
            " [0 0 0 ... 0 0 0]\n",
            " [0 0 0 ... 0 0 0]\n",
            " ...\n",
            " [0 0 0 ... 1 0 0]\n",
            " [0 0 0 ... 0 0 0]\n",
            " [0 0 0 ... 0 0 0]]\n"
          ]
        }
      ],
      "source": [
        "def iterate(Z):\n",
        "    # Count neighbours\n",
        "    N = (Z[0:-2,0:-2] + Z[0:-2,1:-1] + Z[0:-2,2:] +\n",
        "         Z[1:-1,0:-2]                + Z[1:-1,2:] +\n",
        "         Z[2:  ,0:-2] + Z[2:  ,1:-1] + Z[2:  ,2:])\n",
        "\n",
        "    # Apply rules\n",
        "    birth = (N==3) & (Z[1:-1,1:-1]==0)\n",
        "    survive = ((N==2) | (N==3)) & (Z[1:-1,1:-1]==1)\n",
        "    Z[...] = 0\n",
        "    Z[1:-1,1:-1][birth | survive] = 1\n",
        "    return Z\n",
        "\n",
        "Z = np.random.randint(0,2,(50,50))\n",
        "for i in range(100): Z = iterate(Z)\n",
        "print(Z)"
      ]
    },
    {
      "cell_type": "markdown",
      "metadata": {
        "id": "EhDfT0otzDWs"
      },
      "source": [
        "#### 89. How to get the n largest values of an array (★★★) \n",
        "(**hint**: np.argsort | np.argpartition)"
      ]
    },
    {
      "cell_type": "code",
      "execution_count": 26,
      "metadata": {
        "id": "AnobMyhlzDWu",
        "colab": {
          "base_uri": "https://localhost:8080/"
        },
        "outputId": "39206729-efda-446f-a9be-fc4aaf8782b9"
      },
      "outputs": [
        {
          "output_type": "stream",
          "name": "stdout",
          "text": [
            "[9995 9996 9997 9998 9999]\n",
            "[9998 9997 9999 9996 9995]\n"
          ]
        }
      ],
      "source": [
        "Z = np.arange(10000)\n",
        "np.random.shuffle(Z)\n",
        "n = 5\n",
        "\n",
        "# Slow\n",
        "print (Z[np.argsort(Z)[-n:]])\n",
        "\n",
        "# Fast\n",
        "print (Z[np.argpartition(-Z,n)[:n]])"
      ]
    },
    {
      "cell_type": "markdown",
      "metadata": {
        "id": "VKTWYKRozDWv"
      },
      "source": [
        "#### 90. Given an arbitrary number of vectors, build the cartesian product (every combinations of every item) (★★★) \n",
        "(**hint**: np.indices)"
      ]
    },
    {
      "cell_type": "code",
      "execution_count": 27,
      "metadata": {
        "scrolled": true,
        "id": "KQV16sjUzDWw",
        "colab": {
          "base_uri": "https://localhost:8080/"
        },
        "outputId": "46e9d0bd-997e-49b8-be06-ef03d230fa75"
      },
      "outputs": [
        {
          "output_type": "stream",
          "name": "stdout",
          "text": [
            "[[1 4 6]\n",
            " [1 4 7]\n",
            " [1 5 6]\n",
            " [1 5 7]\n",
            " [2 4 6]\n",
            " [2 4 7]\n",
            " [2 5 6]\n",
            " [2 5 7]\n",
            " [3 4 6]\n",
            " [3 4 7]\n",
            " [3 5 6]\n",
            " [3 5 7]]\n"
          ]
        }
      ],
      "source": [
        "def cartesian(arrays):\n",
        "    arrays = [np.asarray(a) for a in arrays]\n",
        "    shape = (len(x) for x in arrays)\n",
        "\n",
        "    ix = np.indices(shape, dtype=int)\n",
        "    ix = ix.reshape(len(arrays), -1).T\n",
        "\n",
        "    for n, arr in enumerate(arrays):\n",
        "        ix[:, n] = arrays[n][ix[:, n]]\n",
        "\n",
        "    return ix\n",
        "\n",
        "print (cartesian(([1, 2, 3], [4, 5], [6, 7])))"
      ]
    },
    {
      "cell_type": "markdown",
      "metadata": {
        "id": "HJiQAfA3zDWw"
      },
      "source": [
        "#### 91. How to create a record array from a regular array? (★★★) \n",
        "(**hint**: np.core.records.fromarrays)"
      ]
    },
    {
      "cell_type": "code",
      "execution_count": 28,
      "metadata": {
        "id": "dJ8Qz4kmzDWw",
        "colab": {
          "base_uri": "https://localhost:8080/"
        },
        "outputId": "47287fd9-b87a-44f7-ad2e-904ede749983"
      },
      "outputs": [
        {
          "output_type": "stream",
          "name": "stdout",
          "text": [
            "[(b'Hello', 2.5, 3) (b'World', 3.6, 2)]\n"
          ]
        }
      ],
      "source": [
        "Z = np.array([(\"Hello\", 2.5, 3),\n",
        "              (\"World\", 3.6, 2)])\n",
        "R = np.core.records.fromarrays(Z.T, \n",
        "                               names='col1, col2, col3',\n",
        "                               formats = 'S8, f8, i8')\n",
        "print(R)"
      ]
    },
    {
      "cell_type": "markdown",
      "metadata": {
        "id": "HwPN9i_7zDWx"
      },
      "source": [
        "#### 92. Consider a large vector Z, compute Z to the power of 3 using 3 different methods (★★★) \n",
        "(**hint**: np.power, \\*, np.einsum)"
      ]
    },
    {
      "cell_type": "code",
      "execution_count": 29,
      "metadata": {
        "id": "S23pzK-bzDWx"
      },
      "outputs": [],
      "source": [
        ""
      ]
    },
    {
      "cell_type": "markdown",
      "metadata": {
        "id": "9WSQnk05zDWx"
      },
      "source": [
        "#### 93. Consider two arrays A and B of shape (8,3) and (2,2). How to find rows of A that contain elements of each row of B regardless of the order of the elements in B? (★★★) \n",
        "(**hint**: np.where)"
      ]
    },
    {
      "cell_type": "code",
      "execution_count": 30,
      "metadata": {
        "id": "e03g3nvCzDWy",
        "colab": {
          "base_uri": "https://localhost:8080/"
        },
        "outputId": "09ce7da0-f650-4eb8-a6b7-a2213dd45e94"
      },
      "outputs": [
        {
          "output_type": "stream",
          "name": "stdout",
          "text": [
            "[1 3 4 5]\n"
          ]
        }
      ],
      "source": [
        "A = np.random.randint(0,5,(8,3))\n",
        "B = np.random.randint(0,5,(2,2))\n",
        "\n",
        "C = (A[..., np.newaxis, np.newaxis] == B)\n",
        "rows = np.where(C.any((3,1)).all(1))[0]\n",
        "print(rows)"
      ]
    },
    {
      "cell_type": "markdown",
      "metadata": {
        "id": "riWF_G9PzDWy"
      },
      "source": [
        "#### 94. Considering a 10x3 matrix, extract rows with unequal values (e.g. \\[2,2,3\\]) (★★★)"
      ]
    },
    {
      "cell_type": "code",
      "execution_count": 31,
      "metadata": {
        "id": "469xQy-dzDWy",
        "colab": {
          "base_uri": "https://localhost:8080/"
        },
        "outputId": "6d9d4dc6-d740-4c05-d522-e17045cd61c7"
      },
      "outputs": [
        {
          "output_type": "stream",
          "name": "stdout",
          "text": [
            "[[0 1 1]\n",
            " [3 4 4]\n",
            " [0 2 0]\n",
            " [0 4 1]\n",
            " [1 3 1]\n",
            " [0 3 2]\n",
            " [0 3 0]\n",
            " [1 2 0]\n",
            " [3 1 4]\n",
            " [2 0 3]]\n",
            "[[0 1 1]\n",
            " [3 4 4]\n",
            " [0 2 0]\n",
            " [0 4 1]\n",
            " [1 3 1]\n",
            " [0 3 2]\n",
            " [0 3 0]\n",
            " [1 2 0]\n",
            " [3 1 4]\n",
            " [2 0 3]]\n",
            "[[0 1 1]\n",
            " [3 4 4]\n",
            " [0 2 0]\n",
            " [0 4 1]\n",
            " [1 3 1]\n",
            " [0 3 2]\n",
            " [0 3 0]\n",
            " [1 2 0]\n",
            " [3 1 4]\n",
            " [2 0 3]]\n"
          ]
        }
      ],
      "source": [
        "Z = np.random.randint(0,5,(10,3))\n",
        "print(Z)\n",
        "# solution for arrays of all dtypes (including string arrays and record arrays)\n",
        "E = np.all(Z[:,1:] == Z[:,:-1], axis=1)\n",
        "U = Z[~E]\n",
        "print(U)\n",
        "# soluiton for numerical arrays only, will work for any number of columns in Z\n",
        "U = Z[Z.max(axis=1) != Z.min(axis=1),:]\n",
        "print(U)"
      ]
    },
    {
      "cell_type": "markdown",
      "metadata": {
        "id": "YUhNAY5QzDWy"
      },
      "source": [
        "#### 95. Convert a vector of ints into a matrix binary representation (★★★) \n",
        "(**hint**: np.unpackbits)"
      ]
    },
    {
      "cell_type": "code",
      "execution_count": 32,
      "metadata": {
        "id": "Y1H466rdzDWy",
        "colab": {
          "base_uri": "https://localhost:8080/"
        },
        "outputId": "7667f642-e4bf-48a8-fb0d-39d56f8b93ca"
      },
      "outputs": [
        {
          "output_type": "stream",
          "name": "stdout",
          "text": [
            "[[0 0 0 0 0 0 0 0]\n",
            " [0 0 0 0 0 0 0 1]\n",
            " [0 0 0 0 0 0 1 0]\n",
            " [0 0 0 0 0 0 1 1]\n",
            " [0 0 0 0 1 1 1 1]\n",
            " [0 0 0 1 0 0 0 0]\n",
            " [0 0 1 0 0 0 0 0]\n",
            " [0 1 0 0 0 0 0 0]\n",
            " [1 0 0 0 0 0 0 0]]\n",
            "[[0 0 0 0 0 0 0 0]\n",
            " [0 0 0 0 0 0 0 1]\n",
            " [0 0 0 0 0 0 1 0]\n",
            " [0 0 0 0 0 0 1 1]\n",
            " [0 0 0 0 1 1 1 1]\n",
            " [0 0 0 1 0 0 0 0]\n",
            " [0 0 1 0 0 0 0 0]\n",
            " [0 1 0 0 0 0 0 0]\n",
            " [1 0 0 0 0 0 0 0]]\n"
          ]
        }
      ],
      "source": [
        "I = np.array([0, 1, 2, 3, 15, 16, 32, 64, 128])\n",
        "B = ((I.reshape(-1,1) & (2**np.arange(8))) != 0).astype(int)\n",
        "print(B[:,::-1])\n",
        "\n",
        "# Author: Daniel T. McDonald\n",
        "\n",
        "I = np.array([0, 1, 2, 3, 15, 16, 32, 64, 128], dtype=np.uint8)\n",
        "print(np.unpackbits(I[:, np.newaxis], axis=1))"
      ]
    },
    {
      "cell_type": "markdown",
      "metadata": {
        "id": "9tHdJ08lzDWy"
      },
      "source": [
        "#### 96. Given a two dimensional array, how to extract unique rows? (★★★) \n",
        "(**hint**: np.ascontiguousarray)"
      ]
    },
    {
      "cell_type": "code",
      "execution_count": 33,
      "metadata": {
        "id": "HFnM3lPbzDWz",
        "colab": {
          "base_uri": "https://localhost:8080/"
        },
        "outputId": "f0a20e49-6116-48b6-9cad-7e2c811459de"
      },
      "outputs": [
        {
          "output_type": "stream",
          "name": "stdout",
          "text": [
            "[[0 0 0]\n",
            " [0 0 1]\n",
            " [0 1 1]\n",
            " [1 0 0]\n",
            " [1 1 1]]\n"
          ]
        }
      ],
      "source": [
        "Z = np.random.randint(0,2,(6,3))\n",
        "T = np.ascontiguousarray(Z).view(np.dtype((np.void, Z.dtype.itemsize * Z.shape[1])))\n",
        "_, idx = np.unique(T, return_index=True)\n",
        "uZ = Z[idx]\n",
        "print(uZ)"
      ]
    },
    {
      "cell_type": "markdown",
      "metadata": {
        "id": "wId8l0DdzDWz"
      },
      "source": [
        "#### 97. Considering 2 vectors A & B, write the einsum equivalent of inner, outer, sum, and mul function (★★★) \n",
        "(**hint**: np.einsum)"
      ]
    },
    {
      "cell_type": "code",
      "execution_count": 34,
      "metadata": {
        "id": "pkX7PIXPzDWz",
        "colab": {
          "base_uri": "https://localhost:8080/"
        },
        "outputId": "cd9eec4c-40e6-4823-9332-a71eed2c5ed1"
      },
      "outputs": [
        {
          "output_type": "execute_result",
          "data": {
            "text/plain": [
              "array([[0.32805454, 0.28268426, 0.02771873, 0.22492001, 0.0553127 ,\n",
              "        0.03248451, 0.28152905, 0.32873314, 0.15207538, 0.2552381 ],\n",
              "       [0.59689452, 0.5143434 , 0.05043417, 0.40924146, 0.10064134,\n",
              "        0.05910549, 0.5122415 , 0.59812924, 0.27670083, 0.46440518],\n",
              "       [0.32541345, 0.28040844, 0.02749557, 0.22310923, 0.05486739,\n",
              "        0.03222298, 0.27926253, 0.32608659, 0.15085106, 0.25318324],\n",
              "       [0.22862619, 0.19700695, 0.01931761, 0.15675017, 0.03854826,\n",
              "        0.02263895, 0.19620187, 0.22909912, 0.10598364, 0.17787931],\n",
              "       [0.18842164, 0.16236273, 0.01592055, 0.12918522, 0.03176944,\n",
              "        0.01865783, 0.16169923, 0.1888114 , 0.08734613, 0.14659874],\n",
              "       [0.32957633, 0.28399558, 0.02784731, 0.22596337, 0.05556929,\n",
              "        0.0326352 , 0.28283502, 0.33025808, 0.15278083, 0.25642211],\n",
              "       [0.63945172, 0.55101489, 0.05403001, 0.43841943, 0.10781683,\n",
              "        0.06331958, 0.54876313, 0.64077447, 0.29642896, 0.49751619],\n",
              "       [0.50247782, 0.43298462, 0.0424565 , 0.3445077 , 0.0847219 ,\n",
              "        0.04975619, 0.4312152 , 0.50351723, 0.23293232, 0.39094562],\n",
              "       [0.53618268, 0.46202806, 0.04530437, 0.36761635, 0.09040482,\n",
              "        0.0530937 , 0.46013996, 0.53729181, 0.2485568 , 0.4171692 ],\n",
              "       [0.71611965, 0.61707957, 0.06050801, 0.49098432, 0.12074368,\n",
              "        0.07091136, 0.61455783, 0.71760099, 0.33196971, 0.55716657]])"
            ]
          },
          "metadata": {},
          "execution_count": 34
        }
      ],
      "source": [
        "A = np.random.uniform(0,1,10)\n",
        "B = np.random.uniform(0,1,10)\n",
        "\n",
        "np.einsum('i->', A)       # np.sum(A)\n",
        "np.einsum('i,i->i', A, B) # A * B\n",
        "np.einsum('i,i', A, B)    # np.inner(A, B)\n",
        "np.einsum('i,j->ij', A, B)    # np.outer(A, B)"
      ]
    },
    {
      "cell_type": "markdown",
      "metadata": {
        "id": "QCGcwc_wzDWz"
      },
      "source": [
        "#### 98. Considering a path described by two vectors (X,Y), how to sample it using equidistant samples (★★★)? \n",
        "(**hint**: np.cumsum, np.interp)"
      ]
    },
    {
      "cell_type": "code",
      "execution_count": 35,
      "metadata": {
        "collapsed": true,
        "id": "mSwBUqnXzDWz"
      },
      "outputs": [],
      "source": [
        "phi = np.arange(0, 10*np.pi, 0.1)\n",
        "a = 1\n",
        "x = a*phi*np.cos(phi)\n",
        "y = a*phi*np.sin(phi)\n",
        "\n",
        "dr = (np.diff(x)**2 + np.diff(y)**2)**.5 # segment lengths\n",
        "r = np.zeros_like(x)\n",
        "r[1:] = np.cumsum(dr)                # integrate path\n",
        "r_int = np.linspace(0, r.max(), 200) # regular spaced path\n",
        "x_int = np.interp(r_int, r, x)       # integrate path\n",
        "y_int = np.interp(r_int, r, y)"
      ]
    },
    {
      "cell_type": "markdown",
      "metadata": {
        "id": "QWSyppeWzDW1"
      },
      "source": [
        "#### 99. Given an integer n and a 2D array X, select from X the rows which can be interpreted as draws from a multinomial distribution with n degrees, i.e., the rows which only contain integers and which sum to n. (★★★) \n",
        "(**hint**: np.logical\\_and.reduce, np.mod)"
      ]
    },
    {
      "cell_type": "code",
      "execution_count": 36,
      "metadata": {
        "id": "oBSJSIOFzDW2",
        "colab": {
          "base_uri": "https://localhost:8080/"
        },
        "outputId": "21aefd28-978e-42b2-bafe-c3874850d994"
      },
      "outputs": [
        {
          "output_type": "stream",
          "name": "stdout",
          "text": [
            "[[2. 0. 1. 1.]]\n"
          ]
        }
      ],
      "source": [
        "X = np.asarray([[1.0, 0.0, 3.0, 8.0],\n",
        "                [2.0, 0.0, 1.0, 1.0],\n",
        "                [1.5, 2.5, 1.0, 0.0]])\n",
        "n = 4\n",
        "M = np.logical_and.reduce(np.mod(X, 1) == 0, axis=-1)\n",
        "M &= (X.sum(axis=-1) == n)\n",
        "print(X[M])"
      ]
    },
    {
      "cell_type": "markdown",
      "metadata": {
        "id": "79Kg6cOdzDW2"
      },
      "source": [
        "#### 100. Compute bootstrapped 95% confidence intervals for the mean of a 1D array X (i.e., resample the elements of an array with replacement N times, compute the mean of each sample, and then compute percentiles over the means). (★★★) \n",
        "(**hint**: np.percentile)"
      ]
    },
    {
      "cell_type": "code",
      "execution_count": 37,
      "metadata": {
        "id": "ZA2_v_MEzDW2",
        "colab": {
          "base_uri": "https://localhost:8080/"
        },
        "outputId": "4b3262db-8f9b-4b85-92e7-f37c4ed409e4"
      },
      "outputs": [
        {
          "output_type": "stream",
          "name": "stdout",
          "text": [
            "[-0.20131496  0.2096661 ]\n"
          ]
        }
      ],
      "source": [
        "X = np.random.randn(100) # random 1D array\n",
        "N = 1000 # number of bootstrap samples\n",
        "idx = np.random.randint(0, X.size, (N, X.size))\n",
        "means = X[idx].mean(axis=1)\n",
        "confint = np.percentile(means, [2.5, 97.5])\n",
        "print(confint)"
      ]
    }
  ],
  "metadata": {
    "kernelspec": {
      "display_name": "Python 3",
      "language": "python",
      "name": "python3"
    },
    "language_info": {
      "codemirror_mode": {
        "name": "ipython",
        "version": 3
      },
      "file_extension": ".py",
      "mimetype": "text/x-python",
      "name": "python",
      "nbconvert_exporter": "python",
      "pygments_lexer": "ipython3",
      "version": "3.8.3"
    },
    "colab": {
      "name": "Abhishek Numpy_tasks.ipynb",
      "provenance": [],
      "collapsed_sections": [
        "qCVKsDJdzDWC"
      ]
    },
    "accelerator": "GPU"
  },
  "nbformat": 4,
  "nbformat_minor": 0
}